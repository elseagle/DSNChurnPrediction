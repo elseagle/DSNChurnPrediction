{
 "cells": [
  {
   "cell_type": "code",
   "execution_count": 18,
   "metadata": {
    "collapsed": true
   },
   "outputs": [],
   "source": [
    "import pandas as pd\n",
    "import numpy as np\n",
    "import seaborn as sns\n",
    "from matplotlib import pyplot as plt\n",
    "%matplotlib inline"
   ]
  },
  {
   "cell_type": "code",
   "execution_count": 19,
   "metadata": {
    "collapsed": true
   },
   "outputs": [],
   "source": [
    "train = pd.read_csv('TRAIN.csv')\n",
    "test = pd.read_csv('TEST.csv')"
   ]
  },
  {
   "cell_type": "code",
   "execution_count": 20,
   "metadata": {
    "collapsed": true
   },
   "outputs": [],
   "source": [
    "test_id= test['Customer ID']"
   ]
  },
  {
   "cell_type": "code",
   "execution_count": 21,
   "metadata": {
    "collapsed": true
   },
   "outputs": [],
   "source": [
    "pd.options.display.float_format = '{:,.2f}'.format"
   ]
  },
  {
   "cell_type": "code",
   "execution_count": 22,
   "metadata": {},
   "outputs": [
    {
     "data": {
      "text/html": [
       "<div>\n",
       "<style>\n",
       "    .dataframe thead tr:only-child th {\n",
       "        text-align: right;\n",
       "    }\n",
       "\n",
       "    .dataframe thead th {\n",
       "        text-align: left;\n",
       "    }\n",
       "\n",
       "    .dataframe tbody tr th {\n",
       "        vertical-align: top;\n",
       "    }\n",
       "</style>\n",
       "<table border=\"1\" class=\"dataframe\">\n",
       "  <thead>\n",
       "    <tr style=\"text-align: right;\">\n",
       "      <th></th>\n",
       "      <th>Customer ID</th>\n",
       "      <th>network_age</th>\n",
       "      <th>Customer tenure in month</th>\n",
       "      <th>Total Spend in Months 1 and 2 of 2017</th>\n",
       "      <th>Total SMS Spend</th>\n",
       "      <th>Total Data Spend</th>\n",
       "      <th>Total Data Consumption</th>\n",
       "      <th>Total Unique Calls</th>\n",
       "      <th>Total Onnet spend</th>\n",
       "      <th>Total Offnet spend</th>\n",
       "      <th>Total Call centre complaint calls</th>\n",
       "      <th>Network type subscription in Month 1</th>\n",
       "      <th>Network type subscription in Month 2</th>\n",
       "      <th>Most Loved Competitor network in in Month 1</th>\n",
       "      <th>Most Loved Competitor network in in Month 2</th>\n",
       "      <th>Churn Status</th>\n",
       "    </tr>\n",
       "  </thead>\n",
       "  <tbody>\n",
       "    <tr>\n",
       "      <th>486</th>\n",
       "      <td>ADF0626</td>\n",
       "      <td>238.00</td>\n",
       "      <td>7.93</td>\n",
       "      <td>707.64</td>\n",
       "      <td>22.45</td>\n",
       "      <td>210.00</td>\n",
       "      <td>85,675.60</td>\n",
       "      <td>75.00</td>\n",
       "      <td>3,786.00</td>\n",
       "      <td>11,692.00</td>\n",
       "      <td>1.00</td>\n",
       "      <td>3G</td>\n",
       "      <td>3G</td>\n",
       "      <td>ToCall</td>\n",
       "      <td>ToCall</td>\n",
       "      <td>1.00</td>\n",
       "    </tr>\n",
       "    <tr>\n",
       "      <th>333</th>\n",
       "      <td>ADF0111</td>\n",
       "      <td>818.00</td>\n",
       "      <td>27.27</td>\n",
       "      <td>749.87</td>\n",
       "      <td>59.97</td>\n",
       "      <td>5.00</td>\n",
       "      <td>922,078.91</td>\n",
       "      <td>36.00</td>\n",
       "      <td>3,378.00</td>\n",
       "      <td>24,381.00</td>\n",
       "      <td>1.00</td>\n",
       "      <td>3G</td>\n",
       "      <td>3G</td>\n",
       "      <td>Zintel</td>\n",
       "      <td>Mango</td>\n",
       "      <td>1.00</td>\n",
       "    </tr>\n",
       "    <tr>\n",
       "      <th>574</th>\n",
       "      <td>ADF1240</td>\n",
       "      <td>133.00</td>\n",
       "      <td>4.43</td>\n",
       "      <td>643.59</td>\n",
       "      <td>40.88</td>\n",
       "      <td>3.75</td>\n",
       "      <td>371,358.84</td>\n",
       "      <td>69.00</td>\n",
       "      <td>9,096.00</td>\n",
       "      <td>11,546.00</td>\n",
       "      <td>2.00</td>\n",
       "      <td>3G</td>\n",
       "      <td>3G</td>\n",
       "      <td>Zintel</td>\n",
       "      <td>Uxaa</td>\n",
       "      <td>0.00</td>\n",
       "    </tr>\n",
       "    <tr>\n",
       "      <th>87</th>\n",
       "      <td>ADF0545</td>\n",
       "      <td>1,310.00</td>\n",
       "      <td>43.67</td>\n",
       "      <td>982.21</td>\n",
       "      <td>59.84</td>\n",
       "      <td>50.00</td>\n",
       "      <td>1,163,532.41</td>\n",
       "      <td>52.00</td>\n",
       "      <td>4,770.00</td>\n",
       "      <td>14,055.00</td>\n",
       "      <td>1.00</td>\n",
       "      <td>2G</td>\n",
       "      <td>2G</td>\n",
       "      <td>Mango</td>\n",
       "      <td>PQza</td>\n",
       "      <td>1.00</td>\n",
       "    </tr>\n",
       "    <tr>\n",
       "      <th>152</th>\n",
       "      <td>ADF1242</td>\n",
       "      <td>1,856.00</td>\n",
       "      <td>61.87</td>\n",
       "      <td>646.13</td>\n",
       "      <td>3.50</td>\n",
       "      <td>67.50</td>\n",
       "      <td>95,443.88</td>\n",
       "      <td>73.00</td>\n",
       "      <td>13,961.00</td>\n",
       "      <td>1,039.00</td>\n",
       "      <td>1.00</td>\n",
       "      <td>2G</td>\n",
       "      <td>2G</td>\n",
       "      <td>Uxaa</td>\n",
       "      <td>Uxaa</td>\n",
       "      <td>0.00</td>\n",
       "    </tr>\n",
       "  </tbody>\n",
       "</table>\n",
       "</div>"
      ],
      "text/plain": [
       "    Customer ID  network_age  Customer tenure in month  \\\n",
       "486     ADF0626       238.00                      7.93   \n",
       "333     ADF0111       818.00                     27.27   \n",
       "574     ADF1240       133.00                      4.43   \n",
       "87      ADF0545     1,310.00                     43.67   \n",
       "152     ADF1242     1,856.00                     61.87   \n",
       "\n",
       "     Total Spend in Months 1 and 2 of 2017  Total SMS Spend  Total Data Spend  \\\n",
       "486                                 707.64            22.45            210.00   \n",
       "333                                 749.87            59.97              5.00   \n",
       "574                                 643.59            40.88              3.75   \n",
       "87                                  982.21            59.84             50.00   \n",
       "152                                 646.13             3.50             67.50   \n",
       "\n",
       "     Total Data Consumption  Total Unique Calls  Total Onnet spend   \\\n",
       "486               85,675.60               75.00            3,786.00   \n",
       "333              922,078.91               36.00            3,378.00   \n",
       "574              371,358.84               69.00            9,096.00   \n",
       "87             1,163,532.41               52.00            4,770.00   \n",
       "152               95,443.88               73.00           13,961.00   \n",
       "\n",
       "     Total Offnet spend  Total Call centre complaint calls  \\\n",
       "486           11,692.00                               1.00   \n",
       "333           24,381.00                               1.00   \n",
       "574           11,546.00                               2.00   \n",
       "87            14,055.00                               1.00   \n",
       "152            1,039.00                               1.00   \n",
       "\n",
       "    Network type subscription in Month 1 Network type subscription in Month 2  \\\n",
       "486                                   3G                                   3G   \n",
       "333                                   3G                                   3G   \n",
       "574                                   3G                                   3G   \n",
       "87                                    2G                                   2G   \n",
       "152                                   2G                                   2G   \n",
       "\n",
       "    Most Loved Competitor network in in Month 1  \\\n",
       "486                                      ToCall   \n",
       "333                                      Zintel   \n",
       "574                                      Zintel   \n",
       "87                                        Mango   \n",
       "152                                        Uxaa   \n",
       "\n",
       "    Most Loved Competitor network in in Month 2  Churn Status  \n",
       "486                                      ToCall          1.00  \n",
       "333                                       Mango          1.00  \n",
       "574                                        Uxaa          0.00  \n",
       "87                                         PQza          1.00  \n",
       "152                                        Uxaa          0.00  "
      ]
     },
     "execution_count": 22,
     "metadata": {},
     "output_type": "execute_result"
    }
   ],
   "source": [
    "train.sample(5)"
   ]
  },
  {
   "cell_type": "code",
   "execution_count": 23,
   "metadata": {},
   "outputs": [
    {
     "data": {
      "text/html": [
       "<div>\n",
       "<style>\n",
       "    .dataframe thead tr:only-child th {\n",
       "        text-align: right;\n",
       "    }\n",
       "\n",
       "    .dataframe thead th {\n",
       "        text-align: left;\n",
       "    }\n",
       "\n",
       "    .dataframe tbody tr th {\n",
       "        vertical-align: top;\n",
       "    }\n",
       "</style>\n",
       "<table border=\"1\" class=\"dataframe\">\n",
       "  <thead>\n",
       "    <tr style=\"text-align: right;\">\n",
       "      <th></th>\n",
       "      <th>network_age</th>\n",
       "      <th>Customer tenure in month</th>\n",
       "      <th>Total Spend in Months 1 and 2 of 2017</th>\n",
       "      <th>Total SMS Spend</th>\n",
       "      <th>Total Data Spend</th>\n",
       "      <th>Total Data Consumption</th>\n",
       "      <th>Total Unique Calls</th>\n",
       "      <th>Total Onnet spend</th>\n",
       "      <th>Total Offnet spend</th>\n",
       "      <th>Total Call centre complaint calls</th>\n",
       "      <th>Churn Status</th>\n",
       "    </tr>\n",
       "  </thead>\n",
       "  <tbody>\n",
       "    <tr>\n",
       "      <th>count</th>\n",
       "      <td>1,400.00</td>\n",
       "      <td>1,400.00</td>\n",
       "      <td>1,400.00</td>\n",
       "      <td>1,400.00</td>\n",
       "      <td>1,400.00</td>\n",
       "      <td>1,400.00</td>\n",
       "      <td>1,400.00</td>\n",
       "      <td>1,400.00</td>\n",
       "      <td>1,400.00</td>\n",
       "      <td>1,400.00</td>\n",
       "      <td>1,400.00</td>\n",
       "    </tr>\n",
       "    <tr>\n",
       "      <th>mean</th>\n",
       "      <td>1,450.63</td>\n",
       "      <td>48.35</td>\n",
       "      <td>805.64</td>\n",
       "      <td>30.39</td>\n",
       "      <td>58.48</td>\n",
       "      <td>2,162,306.93</td>\n",
       "      <td>202.42</td>\n",
       "      <td>6,814.39</td>\n",
       "      <td>15,730.42</td>\n",
       "      <td>1.92</td>\n",
       "      <td>0.50</td>\n",
       "    </tr>\n",
       "    <tr>\n",
       "      <th>std</th>\n",
       "      <td>1,276.01</td>\n",
       "      <td>42.53</td>\n",
       "      <td>1,251.74</td>\n",
       "      <td>60.89</td>\n",
       "      <td>289.61</td>\n",
       "      <td>6,865,958.48</td>\n",
       "      <td>302.04</td>\n",
       "      <td>16,707.78</td>\n",
       "      <td>37,448.94</td>\n",
       "      <td>2.35</td>\n",
       "      <td>0.50</td>\n",
       "    </tr>\n",
       "    <tr>\n",
       "      <th>min</th>\n",
       "      <td>-5.00</td>\n",
       "      <td>-0.17</td>\n",
       "      <td>4.91</td>\n",
       "      <td>0.00</td>\n",
       "      <td>0.00</td>\n",
       "      <td>0.06</td>\n",
       "      <td>1.00</td>\n",
       "      <td>0.00</td>\n",
       "      <td>0.00</td>\n",
       "      <td>1.00</td>\n",
       "      <td>0.00</td>\n",
       "    </tr>\n",
       "    <tr>\n",
       "      <th>25%</th>\n",
       "      <td>287.00</td>\n",
       "      <td>9.57</td>\n",
       "      <td>155.54</td>\n",
       "      <td>2.62</td>\n",
       "      <td>1.25</td>\n",
       "      <td>1,384.35</td>\n",
       "      <td>18.00</td>\n",
       "      <td>60.00</td>\n",
       "      <td>1,123.00</td>\n",
       "      <td>1.00</td>\n",
       "      <td>0.00</td>\n",
       "    </tr>\n",
       "    <tr>\n",
       "      <th>50%</th>\n",
       "      <td>1,171.00</td>\n",
       "      <td>39.03</td>\n",
       "      <td>606.58</td>\n",
       "      <td>13.71</td>\n",
       "      <td>11.25</td>\n",
       "      <td>119,348.67</td>\n",
       "      <td>81.50</td>\n",
       "      <td>1,617.00</td>\n",
       "      <td>4,171.00</td>\n",
       "      <td>1.00</td>\n",
       "      <td>0.50</td>\n",
       "    </tr>\n",
       "    <tr>\n",
       "      <th>75%</th>\n",
       "      <td>2,242.00</td>\n",
       "      <td>74.73</td>\n",
       "      <td>1,018.40</td>\n",
       "      <td>31.20</td>\n",
       "      <td>42.81</td>\n",
       "      <td>1,206,784.53</td>\n",
       "      <td>254.25</td>\n",
       "      <td>7,177.75</td>\n",
       "      <td>13,151.50</td>\n",
       "      <td>2.00</td>\n",
       "      <td>1.00</td>\n",
       "    </tr>\n",
       "    <tr>\n",
       "      <th>max</th>\n",
       "      <td>5,451.00</td>\n",
       "      <td>181.70</td>\n",
       "      <td>24,438.83</td>\n",
       "      <td>873.98</td>\n",
       "      <td>8,295.00</td>\n",
       "      <td>99,456,402.05</td>\n",
       "      <td>2,596.00</td>\n",
       "      <td>381,174.00</td>\n",
       "      <td>431,440.00</td>\n",
       "      <td>49.00</td>\n",
       "      <td>1.00</td>\n",
       "    </tr>\n",
       "  </tbody>\n",
       "</table>\n",
       "</div>"
      ],
      "text/plain": [
       "       network_age  Customer tenure in month  \\\n",
       "count     1,400.00                  1,400.00   \n",
       "mean      1,450.63                     48.35   \n",
       "std       1,276.01                     42.53   \n",
       "min          -5.00                     -0.17   \n",
       "25%         287.00                      9.57   \n",
       "50%       1,171.00                     39.03   \n",
       "75%       2,242.00                     74.73   \n",
       "max       5,451.00                    181.70   \n",
       "\n",
       "       Total Spend in Months 1 and 2 of 2017  Total SMS Spend  \\\n",
       "count                               1,400.00         1,400.00   \n",
       "mean                                  805.64            30.39   \n",
       "std                                 1,251.74            60.89   \n",
       "min                                     4.91             0.00   \n",
       "25%                                   155.54             2.62   \n",
       "50%                                   606.58            13.71   \n",
       "75%                                 1,018.40            31.20   \n",
       "max                                24,438.83           873.98   \n",
       "\n",
       "       Total Data Spend  Total Data Consumption  Total Unique Calls  \\\n",
       "count          1,400.00                1,400.00            1,400.00   \n",
       "mean              58.48            2,162,306.93              202.42   \n",
       "std              289.61            6,865,958.48              302.04   \n",
       "min                0.00                    0.06                1.00   \n",
       "25%                1.25                1,384.35               18.00   \n",
       "50%               11.25              119,348.67               81.50   \n",
       "75%               42.81            1,206,784.53              254.25   \n",
       "max            8,295.00           99,456,402.05            2,596.00   \n",
       "\n",
       "       Total Onnet spend   Total Offnet spend  \\\n",
       "count            1,400.00            1,400.00   \n",
       "mean             6,814.39           15,730.42   \n",
       "std             16,707.78           37,448.94   \n",
       "min                  0.00                0.00   \n",
       "25%                 60.00            1,123.00   \n",
       "50%              1,617.00            4,171.00   \n",
       "75%              7,177.75           13,151.50   \n",
       "max            381,174.00          431,440.00   \n",
       "\n",
       "       Total Call centre complaint calls  Churn Status  \n",
       "count                           1,400.00      1,400.00  \n",
       "mean                                1.92          0.50  \n",
       "std                                 2.35          0.50  \n",
       "min                                 1.00          0.00  \n",
       "25%                                 1.00          0.00  \n",
       "50%                                 1.00          0.50  \n",
       "75%                                 2.00          1.00  \n",
       "max                                49.00          1.00  "
      ]
     },
     "execution_count": 23,
     "metadata": {},
     "output_type": "execute_result"
    }
   ],
   "source": [
    "train.describe()"
   ]
  },
  {
   "cell_type": "code",
   "execution_count": 24,
   "metadata": {},
   "outputs": [
    {
     "data": {
      "text/plain": [
       "3G       636\n",
       "2G       304\n",
       "Other    285\n",
       "Name: Network type subscription in Month 1, dtype: int64"
      ]
     },
     "execution_count": 24,
     "metadata": {},
     "output_type": "execute_result"
    }
   ],
   "source": [
    "train['Network type subscription in Month 1'].value_counts()"
   ]
  },
  {
   "cell_type": "code",
   "execution_count": 25,
   "metadata": {},
   "outputs": [
    {
     "data": {
      "text/plain": [
       "True    16\n",
       "dtype: int64"
      ]
     },
     "execution_count": 25,
     "metadata": {},
     "output_type": "execute_result"
    }
   ],
   "source": [
    "train.isnull().any().value_counts()"
   ]
  },
  {
   "cell_type": "code",
   "execution_count": 26,
   "metadata": {
    "collapsed": true
   },
   "outputs": [],
   "source": [
    "sample = pd.read_csv('sample submission.csv')"
   ]
  },
  {
   "cell_type": "code",
   "execution_count": 27,
   "metadata": {},
   "outputs": [
    {
     "data": {
      "text/html": [
       "<div>\n",
       "<style>\n",
       "    .dataframe thead tr:only-child th {\n",
       "        text-align: right;\n",
       "    }\n",
       "\n",
       "    .dataframe thead th {\n",
       "        text-align: left;\n",
       "    }\n",
       "\n",
       "    .dataframe tbody tr th {\n",
       "        vertical-align: top;\n",
       "    }\n",
       "</style>\n",
       "<table border=\"1\" class=\"dataframe\">\n",
       "  <thead>\n",
       "    <tr style=\"text-align: right;\">\n",
       "      <th></th>\n",
       "      <th>Customer ID</th>\n",
       "      <th>Churn Status</th>\n",
       "    </tr>\n",
       "  </thead>\n",
       "  <tbody>\n",
       "    <tr>\n",
       "      <th>78</th>\n",
       "      <td>ADF0180</td>\n",
       "      <td>0</td>\n",
       "    </tr>\n",
       "  </tbody>\n",
       "</table>\n",
       "</div>"
      ],
      "text/plain": [
       "   Customer ID  Churn Status\n",
       "78     ADF0180             0"
      ]
     },
     "execution_count": 27,
     "metadata": {},
     "output_type": "execute_result"
    }
   ],
   "source": [
    "sample.sample(\n",
    ")"
   ]
  },
  {
   "cell_type": "code",
   "execution_count": 28,
   "metadata": {},
   "outputs": [
    {
     "data": {
      "image/png": "[encoded data removed]",
      "text/plain": [
       "<matplotlib.figure.Figure at 0x16aeb27a710>"
      ]
     },
     "metadata": {},
     "output_type": "display_data"
    }
   ],
   "source": [
    "f,ax=plt.subplots(1,2,figsize=(18,8))\n",
    "train['Churn Status'].value_counts().plot.pie(explode=[0,0.1],autopct='%1.1f%%',ax=ax[0],shadow=True)\n",
    "ax[0].set_title('Churn Status')\n",
    "ax[0].set_ylabel('')\n",
    "sns.countplot('Churn Status',data=train, ax=ax[1])\n",
    "ax[1].set_title('Churn Status')\n",
    "plt.show()"
   ]
  },
  {
   "cell_type": "code",
   "execution_count": 29,
   "metadata": {},
   "outputs": [
    {
     "data": {
      "text/html": [
       "<div>\n",
       "<style>\n",
       "    .dataframe thead tr:only-child th {\n",
       "        text-align: right;\n",
       "    }\n",
       "\n",
       "    .dataframe thead th {\n",
       "        text-align: left;\n",
       "    }\n",
       "\n",
       "    .dataframe tbody tr th {\n",
       "        vertical-align: top;\n",
       "    }\n",
       "</style>\n",
       "<table border=\"1\" class=\"dataframe\">\n",
       "  <thead>\n",
       "    <tr style=\"text-align: right;\">\n",
       "      <th></th>\n",
       "      <th></th>\n",
       "      <th>Churn Status</th>\n",
       "    </tr>\n",
       "    <tr>\n",
       "      <th>Network type subscription in Month 1</th>\n",
       "      <th>Churn Status</th>\n",
       "      <th></th>\n",
       "    </tr>\n",
       "  </thead>\n",
       "  <tbody>\n",
       "    <tr>\n",
       "      <th rowspan=\"2\" valign=\"top\">2G</th>\n",
       "      <th>0.00</th>\n",
       "      <td>149</td>\n",
       "    </tr>\n",
       "    <tr>\n",
       "      <th>1.00</th>\n",
       "      <td>155</td>\n",
       "    </tr>\n",
       "    <tr>\n",
       "      <th rowspan=\"2\" valign=\"top\">3G</th>\n",
       "      <th>0.00</th>\n",
       "      <td>334</td>\n",
       "    </tr>\n",
       "    <tr>\n",
       "      <th>1.00</th>\n",
       "      <td>302</td>\n",
       "    </tr>\n",
       "    <tr>\n",
       "      <th rowspan=\"2\" valign=\"top\">Other</th>\n",
       "      <th>0.00</th>\n",
       "      <td>119</td>\n",
       "    </tr>\n",
       "    <tr>\n",
       "      <th>1.00</th>\n",
       "      <td>166</td>\n",
       "    </tr>\n",
       "  </tbody>\n",
       "</table>\n",
       "</div>"
      ],
      "text/plain": [
       "                                                   Churn Status\n",
       "Network type subscription in Month 1 Churn Status              \n",
       "2G                                   0.00                   149\n",
       "                                     1.00                   155\n",
       "3G                                   0.00                   334\n",
       "                                     1.00                   302\n",
       "Other                                0.00                   119\n",
       "                                     1.00                   166"
      ]
     },
     "execution_count": 29,
     "metadata": {},
     "output_type": "execute_result"
    }
   ],
   "source": [
    "train.groupby(['Network type subscription in Month 1','Churn Status'])['Churn Status'].count().to_frame()"
   ]
  },
  {
   "cell_type": "code",
   "execution_count": 30,
   "metadata": {},
   "outputs": [
    {
     "data": {
      "image/png": "[encoded data removed]",
      "text/plain": [
       "<matplotlib.figure.Figure at 0x16aeb388c18>"
      ]
     },
     "metadata": {},
     "output_type": "display_data"
    }
   ],
   "source": [
    "f,ax=plt.subplots(1,2,figsize=(18,8))\n",
    "train[['Network type subscription in Month 1','Churn Status']].groupby(['Network type subscription in Month 1']).mean().plot.bar(ax=ax[0])\n",
    "ax[0].set_title('Network Type vs Churn')\n",
    "sns.countplot('Network type subscription in Month 1',hue='Churn Status',data=train,ax=ax[1])\n",
    "ax[1].set_title('Network Type: Churn Status')\n",
    "plt.show()"
   ]
  },
  {
   "cell_type": "code",
   "execution_count": 31,
   "metadata": {},
   "outputs": [
    {
     "data": {
      "text/html": [
       "<div>\n",
       "<style>\n",
       "    .dataframe thead tr:only-child th {\n",
       "        text-align: right;\n",
       "    }\n",
       "\n",
       "    .dataframe thead th {\n",
       "        text-align: left;\n",
       "    }\n",
       "\n",
       "    .dataframe tbody tr th {\n",
       "        vertical-align: top;\n",
       "    }\n",
       "</style>\n",
       "<table border=\"1\" class=\"dataframe\">\n",
       "  <thead>\n",
       "    <tr style=\"text-align: right;\">\n",
       "      <th></th>\n",
       "      <th></th>\n",
       "      <th>Churn Status</th>\n",
       "    </tr>\n",
       "    <tr>\n",
       "      <th>Network type subscription in Month 2</th>\n",
       "      <th>Churn Status</th>\n",
       "      <th></th>\n",
       "    </tr>\n",
       "  </thead>\n",
       "  <tbody>\n",
       "    <tr>\n",
       "      <th rowspan=\"2\" valign=\"top\">2G</th>\n",
       "      <th>0.00</th>\n",
       "      <td>138</td>\n",
       "    </tr>\n",
       "    <tr>\n",
       "      <th>1.00</th>\n",
       "      <td>146</td>\n",
       "    </tr>\n",
       "    <tr>\n",
       "      <th rowspan=\"2\" valign=\"top\">3G</th>\n",
       "      <th>0.00</th>\n",
       "      <td>367</td>\n",
       "    </tr>\n",
       "    <tr>\n",
       "      <th>1.00</th>\n",
       "      <td>320</td>\n",
       "    </tr>\n",
       "    <tr>\n",
       "      <th rowspan=\"2\" valign=\"top\">Other</th>\n",
       "      <th>0.00</th>\n",
       "      <td>119</td>\n",
       "    </tr>\n",
       "    <tr>\n",
       "      <th>1.00</th>\n",
       "      <td>166</td>\n",
       "    </tr>\n",
       "  </tbody>\n",
       "</table>\n",
       "</div>"
      ],
      "text/plain": [
       "                                                   Churn Status\n",
       "Network type subscription in Month 2 Churn Status              \n",
       "2G                                   0.00                   138\n",
       "                                     1.00                   146\n",
       "3G                                   0.00                   367\n",
       "                                     1.00                   320\n",
       "Other                                0.00                   119\n",
       "                                     1.00                   166"
      ]
     },
     "execution_count": 31,
     "metadata": {},
     "output_type": "execute_result"
    }
   ],
   "source": [
    "train.groupby(['Network type subscription in Month 2','Churn Status'])['Churn Status'].count().to_frame()"
   ]
  },
  {
   "cell_type": "code",
   "execution_count": 32,
   "metadata": {},
   "outputs": [
    {
     "data": {
      "image/png": "[encoded data removed]",
      "text/plain": [
       "<matplotlib.figure.Figure at 0x16aec5806a0>"
      ]
     },
     "metadata": {},
     "output_type": "display_data"
    }
   ],
   "source": [
    "f,ax=plt.subplots(1,2,figsize=(18,8))\n",
    "train[['Network type subscription in Month 2','Churn Status']].groupby(['Network type subscription in Month 2']).mean().plot.bar(ax=ax[0])\n",
    "ax[0].set_title('Network Type vs Churn')\n",
    "sns.countplot('Network type subscription in Month 2',hue='Churn Status',data=train,ax=ax[1])\n",
    "ax[1].set_title('Network Type: Churn Status')\n",
    "plt.show()"
   ]
  },
  {
   "cell_type": "code",
   "execution_count": 33,
   "metadata": {},
   "outputs": [
    {
     "data": {
      "image/png": "[encoded data removed]",
      "text/plain": [
       "<matplotlib.figure.Figure at 0x16aec6c5ba8>"
      ]
     },
     "metadata": {},
     "output_type": "display_data"
    }
   ],
   "source": [
    "f,ax=plt.subplots(1,2,figsize=(18,8))\n",
    "train[['Most Loved Competitor network in in Month 1','Churn Status']].groupby(['Most Loved Competitor network in in Month 1']).mean().plot.bar(ax=ax[0])\n",
    "ax[0].set_title('Network Type vs Churn')\n",
    "sns.countplot('Most Loved Competitor network in in Month 1',hue='Churn Status',data=train,ax=ax[1])\n",
    "ax[1].set_title('Network Type: Churn Status')\n",
    "plt.show()"
   ]
  },
  {
   "cell_type": "code",
   "execution_count": 34,
   "metadata": {},
   "outputs": [
    {
     "data": {
      "image/png": "[encoded data removed]",
      "text/plain": [
       "<matplotlib.figure.Figure at 0x16aec6e86d8>"
      ]
     },
     "metadata": {},
     "output_type": "display_data"
    }
   ],
   "source": [
    "f,ax=plt.subplots(1,2,figsize=(18,8))\n",
    "train[['Most Loved Competitor network in in Month 2','Churn Status']].groupby(['Most Loved Competitor network in in Month 2']).mean().plot.bar(ax=ax[0])\n",
    "ax[0].set_title('Network Type vs Churn')\n",
    "sns.countplot('Most Loved Competitor network in in Month 2',hue='Churn Status',data=train,ax=ax[1])\n",
    "ax[1].set_title('Network Type: Churn Status')\n",
    "plt.show()"
   ]
  },
  {
   "cell_type": "code",
   "execution_count": 35,
   "metadata": {},
   "outputs": [
    {
     "data": {
      "text/plain": [
       "Customer ID                                    True\n",
       "network_age                                    True\n",
       "Customer tenure in month                       True\n",
       "Total Spend in Months 1 and 2 of 2017          True\n",
       "Total SMS Spend                                True\n",
       "Total Data Spend                               True\n",
       "Total Data Consumption                         True\n",
       "Total Unique Calls                             True\n",
       "Total Onnet spend                              True\n",
       "Total Offnet spend                             True\n",
       "Total Call centre complaint calls              True\n",
       "Network type subscription in Month 1           True\n",
       "Network type subscription in Month 2           True\n",
       "Most Loved Competitor network in in Month 1    True\n",
       "Most Loved Competitor network in in Month 2    True\n",
       "Churn Status                                   True\n",
       "dtype: bool"
      ]
     },
     "execution_count": 35,
     "metadata": {},
     "output_type": "execute_result"
    }
   ],
   "source": [
    "train.isnull().any()"
   ]
  },
  {
   "cell_type": "code",
   "execution_count": 36,
   "metadata": {
    "collapsed": true
   },
   "outputs": [],
   "source": [
    "train.columns = ['ID', 'Age_Days', 'Age_Month', 'Expenditure', 'Expenditure_SMS', 'Expenditure_Data', 'Data_Consumed', 'Unique_Calls',\n",
    "                 'Onnet_Spend', 'Offnet_Spend', 'Call_Centre', 'Network_Type1', 'Network_Type2', 'Network_Love1', 'Network_Love2', 'Churn_Status']"
   ]
  },
  {
   "cell_type": "code",
   "execution_count": 37,
   "metadata": {
    "collapsed": true
   },
   "outputs": [],
   "source": [
    "train = train.drop(train.index[1400])"
   ]
  },
  {
   "cell_type": "code",
   "execution_count": null,
   "metadata": {
    "collapsed": true
   },
   "outputs": [],
   "source": []
  },
  {
   "cell_type": "code",
   "execution_count": 38,
   "metadata": {},
   "outputs": [
    {
     "data": {
      "text/plain": [
       "True"
      ]
     },
     "execution_count": 38,
     "metadata": {},
     "output_type": "execute_result"
    }
   ],
   "source": [
    "train['Network_Love1'].isnull().any()"
   ]
  },
  {
   "cell_type": "code",
   "execution_count": 39,
   "metadata": {
    "collapsed": true
   },
   "outputs": [],
   "source": [
    "#train['Network_Type1'].isnull().value_counts()"
   ]
  },
  {
   "cell_type": "code",
   "execution_count": 40,
   "metadata": {},
   "outputs": [
    {
     "data": {
      "text/plain": [
       "count     1225\n",
       "unique       3\n",
       "top         3G\n",
       "freq       636\n",
       "Name: Network_Type1, dtype: object"
      ]
     },
     "execution_count": 40,
     "metadata": {},
     "output_type": "execute_result"
    }
   ],
   "source": [
    "train['Network_Type1'].describe()"
   ]
  },
  {
   "cell_type": "code",
   "execution_count": 41,
   "metadata": {
    "collapsed": true
   },
   "outputs": [],
   "source": [
    "#train.loc[(train.Network_Type1.isnull()), 'Network_Type1'] = '3G'"
   ]
  },
  {
   "cell_type": "code",
   "execution_count": 42,
   "metadata": {},
   "outputs": [
    {
     "data": {
      "text/plain": [
       "True"
      ]
     },
     "execution_count": 42,
     "metadata": {},
     "output_type": "execute_result"
    }
   ],
   "source": [
    "train['Network_Type1'].isnull().any()"
   ]
  },
  {
   "cell_type": "code",
   "execution_count": 43,
   "metadata": {},
   "outputs": [
    {
     "data": {
      "text/plain": [
       "False    1256\n",
       "True      144\n",
       "Name: Network_Type2, dtype: int64"
      ]
     },
     "execution_count": 43,
     "metadata": {},
     "output_type": "execute_result"
    }
   ],
   "source": [
    "train['Network_Type2'].isnull().value_counts()"
   ]
  },
  {
   "cell_type": "code",
   "execution_count": 44,
   "metadata": {},
   "outputs": [
    {
     "data": {
      "text/plain": [
       "count     1256\n",
       "unique       3\n",
       "top         3G\n",
       "freq       687\n",
       "Name: Network_Type2, dtype: object"
      ]
     },
     "execution_count": 44,
     "metadata": {},
     "output_type": "execute_result"
    }
   ],
   "source": [
    "train['Network_Type2'].describe()"
   ]
  },
  {
   "cell_type": "code",
   "execution_count": 45,
   "metadata": {
    "collapsed": true
   },
   "outputs": [],
   "source": [
    "#train.loc[(train.Network_Type2.isnull()), 'Network_Type2'] = '3G'"
   ]
  },
  {
   "cell_type": "code",
   "execution_count": 46,
   "metadata": {},
   "outputs": [
    {
     "data": {
      "text/plain": [
       "True"
      ]
     },
     "execution_count": 46,
     "metadata": {},
     "output_type": "execute_result"
    }
   ],
   "source": [
    "train['Network_Love1'].isnull().any()"
   ]
  },
  {
   "cell_type": "code",
   "execution_count": 47,
   "metadata": {},
   "outputs": [
    {
     "data": {
      "text/plain": [
       "False    1399\n",
       "True        1\n",
       "Name: Network_Love1, dtype: int64"
      ]
     },
     "execution_count": 47,
     "metadata": {},
     "output_type": "execute_result"
    }
   ],
   "source": [
    "train['Network_Love1'].isnull().value_counts()"
   ]
  },
  {
   "cell_type": "code",
   "execution_count": 48,
   "metadata": {},
   "outputs": [
    {
     "data": {
      "text/plain": [
       "count     1399\n",
       "unique       7\n",
       "top       PQza\n",
       "freq       340\n",
       "Name: Network_Love1, dtype: object"
      ]
     },
     "execution_count": 48,
     "metadata": {},
     "output_type": "execute_result"
    }
   ],
   "source": [
    "train['Network_Love1'].describe()"
   ]
  },
  {
   "cell_type": "code",
   "execution_count": 49,
   "metadata": {
    "collapsed": true
   },
   "outputs": [],
   "source": [
    "#train.loc[(train.Network_Love1.isnull()), 'Network_Love1'] = 'PQza'"
   ]
  },
  {
   "cell_type": "code",
   "execution_count": 50,
   "metadata": {},
   "outputs": [
    {
     "data": {
      "text/plain": [
       "True"
      ]
     },
     "execution_count": 50,
     "metadata": {},
     "output_type": "execute_result"
    }
   ],
   "source": [
    "train['Network_Love1'].isnull().any()"
   ]
  },
  {
   "cell_type": "code",
   "execution_count": 51,
   "metadata": {},
   "outputs": [
    {
     "data": {
      "text/plain": [
       "True"
      ]
     },
     "execution_count": 51,
     "metadata": {},
     "output_type": "execute_result"
    }
   ],
   "source": [
    "train['Network_Love2'].isnull().any()"
   ]
  },
  {
   "cell_type": "code",
   "execution_count": 52,
   "metadata": {},
   "outputs": [
    {
     "data": {
      "text/plain": [
       "False    1399\n",
       "True        1\n",
       "Name: Network_Love2, dtype: int64"
      ]
     },
     "execution_count": 52,
     "metadata": {},
     "output_type": "execute_result"
    }
   ],
   "source": [
    "train['Network_Love2'].isnull().value_counts()"
   ]
  },
  {
   "cell_type": "code",
   "execution_count": 53,
   "metadata": {},
   "outputs": [
    {
     "data": {
      "text/plain": [
       "count     1399\n",
       "unique       6\n",
       "top       Uxaa\n",
       "freq       829\n",
       "Name: Network_Love2, dtype: object"
      ]
     },
     "execution_count": 53,
     "metadata": {},
     "output_type": "execute_result"
    }
   ],
   "source": [
    "train['Network_Love2'].describe()"
   ]
  },
  {
   "cell_type": "code",
   "execution_count": 54,
   "metadata": {
    "collapsed": true
   },
   "outputs": [],
   "source": [
    "#train.loc[(train.Network_Love2.isnull()), 'Network_Love2'] = 'Uxaa'"
   ]
  },
  {
   "cell_type": "code",
   "execution_count": 55,
   "metadata": {},
   "outputs": [
    {
     "data": {
      "text/plain": [
       "True"
      ]
     },
     "execution_count": 55,
     "metadata": {},
     "output_type": "execute_result"
    }
   ],
   "source": [
    "train['Network_Love2'].isnull().any()"
   ]
  },
  {
   "cell_type": "code",
   "execution_count": 56,
   "metadata": {},
   "outputs": [
    {
     "data": {
      "text/plain": [
       "ID                  False\n",
       "Age_Days            False\n",
       "Age_Month           False\n",
       "Expenditure         False\n",
       "Expenditure_SMS     False\n",
       "Expenditure_Data    False\n",
       "Data_Consumed       False\n",
       "Unique_Calls        False\n",
       "Onnet_Spend         False\n",
       "Offnet_Spend        False\n",
       "Call_Centre         False\n",
       "Network_Type1        True\n",
       "Network_Type2        True\n",
       "Network_Love1        True\n",
       "Network_Love2        True\n",
       "Churn_Status        False\n",
       "dtype: bool"
      ]
     },
     "execution_count": 56,
     "metadata": {},
     "output_type": "execute_result"
    }
   ],
   "source": [
    "train.isnull().any()"
   ]
  },
  {
   "cell_type": "code",
   "execution_count": 57,
   "metadata": {},
   "outputs": [
    {
     "data": {
      "text/plain": [
       "3G       636\n",
       "2G       304\n",
       "Other    285\n",
       "Name: Network_Type1, dtype: int64"
      ]
     },
     "execution_count": 57,
     "metadata": {},
     "output_type": "execute_result"
    }
   ],
   "source": [
    "#Feature engineering network type 1 and type 2\n",
    "train.Network_Type1.value_counts()"
   ]
  },
  {
   "cell_type": "code",
   "execution_count": 58,
   "metadata": {
    "collapsed": true
   },
   "outputs": [],
   "source": [
    "train.loc[(train.Network_Type1)== '3G','Network_Type1'] = 0\n",
    "train.loc[(train.Network_Type1)== '2G','Network_Type1'] = 1\n",
    "train.loc[(train.Network_Type1)== 'Other','Network_Type1'] = 2"
   ]
  },
  {
   "cell_type": "code",
   "execution_count": 59,
   "metadata": {
    "collapsed": true
   },
   "outputs": [],
   "source": [
    "train.loc[(train.Network_Type2)== '3G','Network_Type2'] = 0\n",
    "train.loc[(train.Network_Type2)== '2G','Network_Type2'] = 1\n",
    "train.loc[(train.Network_Type2)== 'Other','Network_Type2'] = 2"
   ]
  },
  {
   "cell_type": "code",
   "execution_count": 60,
   "metadata": {},
   "outputs": [
    {
     "data": {
      "text/plain": [
       "PQza        340\n",
       "Uxaa        324\n",
       "Mango       204\n",
       "ToCall      202\n",
       "Zintel      152\n",
       "Weematel    139\n",
       "0            38\n",
       "Name: Network_Love1, dtype: int64"
      ]
     },
     "execution_count": 60,
     "metadata": {},
     "output_type": "execute_result"
    }
   ],
   "source": [
    "train.Network_Love1.value_counts()"
   ]
  },
  {
   "cell_type": "code",
   "execution_count": 61,
   "metadata": {
    "collapsed": true
   },
   "outputs": [],
   "source": [
    "#feature engineering for network loved month 1\n",
    "train.loc[(train.Network_Love1)== 'PQza','Network_Love1'] = 1\n",
    "train.loc[(train.Network_Love1)== 'Uxaa','Network_Love1'] = 2\n",
    "train.loc[(train.Network_Love1)== 'Mango','Network_Love1'] = 3\n",
    "train.loc[(train.Network_Love1)== 'ToCall','Network_Love1'] = 4\n",
    "train.loc[(train.Network_Love1)== 'Zintel','Network_Love1'] = 5\n",
    "train.loc[(train.Network_Love1)== 'Weematel','Network_Love1'] = 6"
   ]
  },
  {
   "cell_type": "code",
   "execution_count": 62,
   "metadata": {
    "collapsed": true
   },
   "outputs": [],
   "source": [
    "#feature engineering for network loved month 2\n",
    "train.loc[(train.Network_Love2)== 'PQza','Network_Love2'] = 1\n",
    "train.loc[(train.Network_Love2)== 'Uxaa','Network_Love2'] = 2\n",
    "train.loc[(train.Network_Love2)== 'Mango','Network_Love2'] = 3\n",
    "train.loc[(train.Network_Love2)== 'ToCall','Network_Love2'] = 4\n",
    "train.loc[(train.Network_Love2)== 'Zintel','Network_Love2'] = 5\n",
    "train.loc[(train.Network_Love2)== 'Weematel','Network_Love2'] = 6"
   ]
  },
  {
   "cell_type": "code",
   "execution_count": 63,
   "metadata": {},
   "outputs": [
    {
     "data": {
      "text/html": [
       "<div>\n",
       "<style>\n",
       "    .dataframe thead tr:only-child th {\n",
       "        text-align: right;\n",
       "    }\n",
       "\n",
       "    .dataframe thead th {\n",
       "        text-align: left;\n",
       "    }\n",
       "\n",
       "    .dataframe tbody tr th {\n",
       "        vertical-align: top;\n",
       "    }\n",
       "</style>\n",
       "<table border=\"1\" class=\"dataframe\">\n",
       "  <thead>\n",
       "    <tr style=\"text-align: right;\">\n",
       "      <th></th>\n",
       "      <th>ID</th>\n",
       "      <th>Age_Days</th>\n",
       "      <th>Age_Month</th>\n",
       "      <th>Expenditure</th>\n",
       "      <th>Expenditure_SMS</th>\n",
       "      <th>Expenditure_Data</th>\n",
       "      <th>Data_Consumed</th>\n",
       "      <th>Unique_Calls</th>\n",
       "      <th>Onnet_Spend</th>\n",
       "      <th>Offnet_Spend</th>\n",
       "      <th>Call_Centre</th>\n",
       "      <th>Network_Type1</th>\n",
       "      <th>Network_Type2</th>\n",
       "      <th>Network_Love1</th>\n",
       "      <th>Network_Love2</th>\n",
       "      <th>Churn_Status</th>\n",
       "    </tr>\n",
       "  </thead>\n",
       "  <tbody>\n",
       "    <tr>\n",
       "      <th>499</th>\n",
       "      <td>ADF0643</td>\n",
       "      <td>1,521.00</td>\n",
       "      <td>50.70</td>\n",
       "      <td>3,792.35</td>\n",
       "      <td>71.80</td>\n",
       "      <td>21.25</td>\n",
       "      <td>782.75</td>\n",
       "      <td>647.00</td>\n",
       "      <td>64,872.00</td>\n",
       "      <td>228,790.00</td>\n",
       "      <td>1.00</td>\n",
       "      <td>0</td>\n",
       "      <td>0</td>\n",
       "      <td>3</td>\n",
       "      <td>4</td>\n",
       "      <td>1.00</td>\n",
       "    </tr>\n",
       "    <tr>\n",
       "      <th>1190</th>\n",
       "      <td>ADF1729</td>\n",
       "      <td>1,910.00</td>\n",
       "      <td>63.67</td>\n",
       "      <td>981.58</td>\n",
       "      <td>21.34</td>\n",
       "      <td>0.00</td>\n",
       "      <td>1,209.36</td>\n",
       "      <td>343.00</td>\n",
       "      <td>228.00</td>\n",
       "      <td>37,844.00</td>\n",
       "      <td>1.00</td>\n",
       "      <td>2</td>\n",
       "      <td>2</td>\n",
       "      <td>4</td>\n",
       "      <td>2</td>\n",
       "      <td>1.00</td>\n",
       "    </tr>\n",
       "    <tr>\n",
       "      <th>599</th>\n",
       "      <td>ADF1295</td>\n",
       "      <td>134.00</td>\n",
       "      <td>4.47</td>\n",
       "      <td>812.50</td>\n",
       "      <td>73.68</td>\n",
       "      <td>8.75</td>\n",
       "      <td>663,969.13</td>\n",
       "      <td>554.00</td>\n",
       "      <td>27,228.00</td>\n",
       "      <td>765.00</td>\n",
       "      <td>1.00</td>\n",
       "      <td>0</td>\n",
       "      <td>0</td>\n",
       "      <td>5</td>\n",
       "      <td>2</td>\n",
       "      <td>0.00</td>\n",
       "    </tr>\n",
       "    <tr>\n",
       "      <th>1102</th>\n",
       "      <td>ADF1272</td>\n",
       "      <td>2,193.00</td>\n",
       "      <td>73.10</td>\n",
       "      <td>725.70</td>\n",
       "      <td>7.00</td>\n",
       "      <td>22.50</td>\n",
       "      <td>272,916.89</td>\n",
       "      <td>228.00</td>\n",
       "      <td>7,761.00</td>\n",
       "      <td>9,972.00</td>\n",
       "      <td>1.00</td>\n",
       "      <td>2</td>\n",
       "      <td>2</td>\n",
       "      <td>4</td>\n",
       "      <td>2</td>\n",
       "      <td>0.00</td>\n",
       "    </tr>\n",
       "    <tr>\n",
       "      <th>377</th>\n",
       "      <td>ADF0314</td>\n",
       "      <td>1,845.00</td>\n",
       "      <td>61.50</td>\n",
       "      <td>476.44</td>\n",
       "      <td>19.85</td>\n",
       "      <td>0.00</td>\n",
       "      <td>86,713.40</td>\n",
       "      <td>5.00</td>\n",
       "      <td>490.00</td>\n",
       "      <td>179.00</td>\n",
       "      <td>1.00</td>\n",
       "      <td>0</td>\n",
       "      <td>0</td>\n",
       "      <td>1</td>\n",
       "      <td>1</td>\n",
       "      <td>0.00</td>\n",
       "    </tr>\n",
       "    <tr>\n",
       "      <th>958</th>\n",
       "      <td>ADF0104</td>\n",
       "      <td>1,217.00</td>\n",
       "      <td>40.57</td>\n",
       "      <td>642.81</td>\n",
       "      <td>40.00</td>\n",
       "      <td>10.00</td>\n",
       "      <td>409.29</td>\n",
       "      <td>103.00</td>\n",
       "      <td>1,762.00</td>\n",
       "      <td>25,464.00</td>\n",
       "      <td>4.00</td>\n",
       "      <td>2</td>\n",
       "      <td>2</td>\n",
       "      <td>6</td>\n",
       "      <td>3</td>\n",
       "      <td>1.00</td>\n",
       "    </tr>\n",
       "    <tr>\n",
       "      <th>81</th>\n",
       "      <td>ADF0508</td>\n",
       "      <td>112.00</td>\n",
       "      <td>3.73</td>\n",
       "      <td>195.37</td>\n",
       "      <td>0.00</td>\n",
       "      <td>2.50</td>\n",
       "      <td>1,015,036.08</td>\n",
       "      <td>13.00</td>\n",
       "      <td>0.00</td>\n",
       "      <td>2,268.00</td>\n",
       "      <td>2.00</td>\n",
       "      <td>1</td>\n",
       "      <td>1</td>\n",
       "      <td>4</td>\n",
       "      <td>1</td>\n",
       "      <td>1.00</td>\n",
       "    </tr>\n",
       "    <tr>\n",
       "      <th>336</th>\n",
       "      <td>ADF0117</td>\n",
       "      <td>2,585.00</td>\n",
       "      <td>86.17</td>\n",
       "      <td>897.28</td>\n",
       "      <td>19.59</td>\n",
       "      <td>137.50</td>\n",
       "      <td>2,229,748.69</td>\n",
       "      <td>105.00</td>\n",
       "      <td>16,902.00</td>\n",
       "      <td>10,540.00</td>\n",
       "      <td>1.00</td>\n",
       "      <td>0</td>\n",
       "      <td>0</td>\n",
       "      <td>3</td>\n",
       "      <td>3</td>\n",
       "      <td>1.00</td>\n",
       "    </tr>\n",
       "    <tr>\n",
       "      <th>872</th>\n",
       "      <td>ADF1834</td>\n",
       "      <td>4,236.00</td>\n",
       "      <td>141.20</td>\n",
       "      <td>2,567.95</td>\n",
       "      <td>16.73</td>\n",
       "      <td>7.50</td>\n",
       "      <td>813,623.88</td>\n",
       "      <td>624.00</td>\n",
       "      <td>0.00</td>\n",
       "      <td>100,260.00</td>\n",
       "      <td>1.00</td>\n",
       "      <td>0</td>\n",
       "      <td>0</td>\n",
       "      <td>2</td>\n",
       "      <td>2</td>\n",
       "      <td>1.00</td>\n",
       "    </tr>\n",
       "    <tr>\n",
       "      <th>609</th>\n",
       "      <td>ADF1314</td>\n",
       "      <td>1,056.00</td>\n",
       "      <td>35.20</td>\n",
       "      <td>847.17</td>\n",
       "      <td>25.24</td>\n",
       "      <td>23.75</td>\n",
       "      <td>274.07</td>\n",
       "      <td>415.00</td>\n",
       "      <td>14,788.00</td>\n",
       "      <td>19,779.00</td>\n",
       "      <td>7.00</td>\n",
       "      <td>0</td>\n",
       "      <td>0</td>\n",
       "      <td>6</td>\n",
       "      <td>2</td>\n",
       "      <td>0.00</td>\n",
       "    </tr>\n",
       "    <tr>\n",
       "      <th>34</th>\n",
       "      <td>ADF0308</td>\n",
       "      <td>2,067.00</td>\n",
       "      <td>68.90</td>\n",
       "      <td>423.61</td>\n",
       "      <td>135.66</td>\n",
       "      <td>21.25</td>\n",
       "      <td>3,854.17</td>\n",
       "      <td>15.00</td>\n",
       "      <td>2,571.00</td>\n",
       "      <td>1,207.00</td>\n",
       "      <td>1.00</td>\n",
       "      <td>1</td>\n",
       "      <td>1</td>\n",
       "      <td>1</td>\n",
       "      <td>1</td>\n",
       "      <td>0.00</td>\n",
       "    </tr>\n",
       "    <tr>\n",
       "      <th>522</th>\n",
       "      <td>ADF1113</td>\n",
       "      <td>1,265.00</td>\n",
       "      <td>42.17</td>\n",
       "      <td>359.54</td>\n",
       "      <td>1.75</td>\n",
       "      <td>6.25</td>\n",
       "      <td>57,359.46</td>\n",
       "      <td>167.00</td>\n",
       "      <td>4,980.00</td>\n",
       "      <td>8,960.00</td>\n",
       "      <td>8.00</td>\n",
       "      <td>0</td>\n",
       "      <td>0</td>\n",
       "      <td>4</td>\n",
       "      <td>2</td>\n",
       "      <td>0.00</td>\n",
       "    </tr>\n",
       "    <tr>\n",
       "      <th>391</th>\n",
       "      <td>ADF0337</td>\n",
       "      <td>144.00</td>\n",
       "      <td>4.80</td>\n",
       "      <td>1,071.58</td>\n",
       "      <td>10.50</td>\n",
       "      <td>228.75</td>\n",
       "      <td>5,393,514.88</td>\n",
       "      <td>19.00</td>\n",
       "      <td>0.00</td>\n",
       "      <td>4,038.00</td>\n",
       "      <td>1.00</td>\n",
       "      <td>0</td>\n",
       "      <td>0</td>\n",
       "      <td>1</td>\n",
       "      <td>1</td>\n",
       "      <td>0.00</td>\n",
       "    </tr>\n",
       "    <tr>\n",
       "      <th>1352</th>\n",
       "      <td>ADF1401</td>\n",
       "      <td>2,966.00</td>\n",
       "      <td>98.87</td>\n",
       "      <td>985.41</td>\n",
       "      <td>15.75</td>\n",
       "      <td>41.25</td>\n",
       "      <td>2,013,456.62</td>\n",
       "      <td>174.00</td>\n",
       "      <td>6,478.00</td>\n",
       "      <td>29,114.00</td>\n",
       "      <td>1.00</td>\n",
       "      <td>NaN</td>\n",
       "      <td>NaN</td>\n",
       "      <td>3</td>\n",
       "      <td>2</td>\n",
       "      <td>0.00</td>\n",
       "    </tr>\n",
       "    <tr>\n",
       "      <th>518</th>\n",
       "      <td>ADF1087</td>\n",
       "      <td>977.00</td>\n",
       "      <td>32.57</td>\n",
       "      <td>265.73</td>\n",
       "      <td>33.48</td>\n",
       "      <td>1.24</td>\n",
       "      <td>18.09</td>\n",
       "      <td>11.00</td>\n",
       "      <td>1,229.00</td>\n",
       "      <td>704.00</td>\n",
       "      <td>2.00</td>\n",
       "      <td>0</td>\n",
       "      <td>0</td>\n",
       "      <td>2</td>\n",
       "      <td>2</td>\n",
       "      <td>0.00</td>\n",
       "    </tr>\n",
       "    <tr>\n",
       "      <th>96</th>\n",
       "      <td>ADF0608</td>\n",
       "      <td>2,085.00</td>\n",
       "      <td>69.50</td>\n",
       "      <td>75.16</td>\n",
       "      <td>20.70</td>\n",
       "      <td>1.25</td>\n",
       "      <td>47.13</td>\n",
       "      <td>16.00</td>\n",
       "      <td>24.00</td>\n",
       "      <td>2,440.00</td>\n",
       "      <td>1.00</td>\n",
       "      <td>1</td>\n",
       "      <td>1</td>\n",
       "      <td>4</td>\n",
       "      <td>4</td>\n",
       "      <td>1.00</td>\n",
       "    </tr>\n",
       "    <tr>\n",
       "      <th>723</th>\n",
       "      <td>ADF1523</td>\n",
       "      <td>708.00</td>\n",
       "      <td>23.60</td>\n",
       "      <td>1,266.44</td>\n",
       "      <td>5.98</td>\n",
       "      <td>93.75</td>\n",
       "      <td>1,871,998.52</td>\n",
       "      <td>170.00</td>\n",
       "      <td>14,752.00</td>\n",
       "      <td>19,432.00</td>\n",
       "      <td>2.00</td>\n",
       "      <td>0</td>\n",
       "      <td>0</td>\n",
       "      <td>6</td>\n",
       "      <td>2</td>\n",
       "      <td>0.00</td>\n",
       "    </tr>\n",
       "    <tr>\n",
       "      <th>496</th>\n",
       "      <td>ADF0639</td>\n",
       "      <td>1,730.00</td>\n",
       "      <td>57.67</td>\n",
       "      <td>2,056.74</td>\n",
       "      <td>71.92</td>\n",
       "      <td>1.25</td>\n",
       "      <td>4.65</td>\n",
       "      <td>462.00</td>\n",
       "      <td>35,856.00</td>\n",
       "      <td>127,284.00</td>\n",
       "      <td>1.00</td>\n",
       "      <td>0</td>\n",
       "      <td>0</td>\n",
       "      <td>3</td>\n",
       "      <td>4</td>\n",
       "      <td>1.00</td>\n",
       "    </tr>\n",
       "    <tr>\n",
       "      <th>1382</th>\n",
       "      <td>ADF1740</td>\n",
       "      <td>266.00</td>\n",
       "      <td>8.87</td>\n",
       "      <td>1,033.30</td>\n",
       "      <td>28.17</td>\n",
       "      <td>23.75</td>\n",
       "      <td>267,228.90</td>\n",
       "      <td>136.00</td>\n",
       "      <td>18,492.00</td>\n",
       "      <td>20,333.00</td>\n",
       "      <td>1.00</td>\n",
       "      <td>NaN</td>\n",
       "      <td>0</td>\n",
       "      <td>1</td>\n",
       "      <td>2</td>\n",
       "      <td>1.00</td>\n",
       "    </tr>\n",
       "    <tr>\n",
       "      <th>1061</th>\n",
       "      <td>ADF1072</td>\n",
       "      <td>876.00</td>\n",
       "      <td>29.20</td>\n",
       "      <td>194.83</td>\n",
       "      <td>0.01</td>\n",
       "      <td>0.00</td>\n",
       "      <td>386.63</td>\n",
       "      <td>44.00</td>\n",
       "      <td>10,305.00</td>\n",
       "      <td>1,753.00</td>\n",
       "      <td>1.00</td>\n",
       "      <td>2</td>\n",
       "      <td>2</td>\n",
       "      <td>2</td>\n",
       "      <td>2</td>\n",
       "      <td>0.00</td>\n",
       "    </tr>\n",
       "  </tbody>\n",
       "</table>\n",
       "</div>"
      ],
      "text/plain": [
       "           ID  Age_Days  Age_Month  Expenditure  Expenditure_SMS  \\\n",
       "499   ADF0643  1,521.00      50.70     3,792.35            71.80   \n",
       "1190  ADF1729  1,910.00      63.67       981.58            21.34   \n",
       "599   ADF1295    134.00       4.47       812.50            73.68   \n",
       "1102  ADF1272  2,193.00      73.10       725.70             7.00   \n",
       "377   ADF0314  1,845.00      61.50       476.44            19.85   \n",
       "958   ADF0104  1,217.00      40.57       642.81            40.00   \n",
       "81    ADF0508    112.00       3.73       195.37             0.00   \n",
       "336   ADF0117  2,585.00      86.17       897.28            19.59   \n",
       "872   ADF1834  4,236.00     141.20     2,567.95            16.73   \n",
       "609   ADF1314  1,056.00      35.20       847.17            25.24   \n",
       "34    ADF0308  2,067.00      68.90       423.61           135.66   \n",
       "522   ADF1113  1,265.00      42.17       359.54             1.75   \n",
       "391   ADF0337    144.00       4.80     1,071.58            10.50   \n",
       "1352  ADF1401  2,966.00      98.87       985.41            15.75   \n",
       "518   ADF1087    977.00      32.57       265.73            33.48   \n",
       "96    ADF0608  2,085.00      69.50        75.16            20.70   \n",
       "723   ADF1523    708.00      23.60     1,266.44             5.98   \n",
       "496   ADF0639  1,730.00      57.67     2,056.74            71.92   \n",
       "1382  ADF1740    266.00       8.87     1,033.30            28.17   \n",
       "1061  ADF1072    876.00      29.20       194.83             0.01   \n",
       "\n",
       "      Expenditure_Data  Data_Consumed  Unique_Calls  Onnet_Spend  \\\n",
       "499              21.25         782.75        647.00    64,872.00   \n",
       "1190              0.00       1,209.36        343.00       228.00   \n",
       "599               8.75     663,969.13        554.00    27,228.00   \n",
       "1102             22.50     272,916.89        228.00     7,761.00   \n",
       "377               0.00      86,713.40          5.00       490.00   \n",
       "958              10.00         409.29        103.00     1,762.00   \n",
       "81                2.50   1,015,036.08         13.00         0.00   \n",
       "336             137.50   2,229,748.69        105.00    16,902.00   \n",
       "872               7.50     813,623.88        624.00         0.00   \n",
       "609              23.75         274.07        415.00    14,788.00   \n",
       "34               21.25       3,854.17         15.00     2,571.00   \n",
       "522               6.25      57,359.46        167.00     4,980.00   \n",
       "391             228.75   5,393,514.88         19.00         0.00   \n",
       "1352             41.25   2,013,456.62        174.00     6,478.00   \n",
       "518               1.24          18.09         11.00     1,229.00   \n",
       "96                1.25          47.13         16.00        24.00   \n",
       "723              93.75   1,871,998.52        170.00    14,752.00   \n",
       "496               1.25           4.65        462.00    35,856.00   \n",
       "1382             23.75     267,228.90        136.00    18,492.00   \n",
       "1061              0.00         386.63         44.00    10,305.00   \n",
       "\n",
       "      Offnet_Spend  Call_Centre Network_Type1 Network_Type2 Network_Love1  \\\n",
       "499     228,790.00         1.00             0             0             3   \n",
       "1190     37,844.00         1.00             2             2             4   \n",
       "599         765.00         1.00             0             0             5   \n",
       "1102      9,972.00         1.00             2             2             4   \n",
       "377         179.00         1.00             0             0             1   \n",
       "958      25,464.00         4.00             2             2             6   \n",
       "81        2,268.00         2.00             1             1             4   \n",
       "336      10,540.00         1.00             0             0             3   \n",
       "872     100,260.00         1.00             0             0             2   \n",
       "609      19,779.00         7.00             0             0             6   \n",
       "34        1,207.00         1.00             1             1             1   \n",
       "522       8,960.00         8.00             0             0             4   \n",
       "391       4,038.00         1.00             0             0             1   \n",
       "1352     29,114.00         1.00           NaN           NaN             3   \n",
       "518         704.00         2.00             0             0             2   \n",
       "96        2,440.00         1.00             1             1             4   \n",
       "723      19,432.00         2.00             0             0             6   \n",
       "496     127,284.00         1.00             0             0             3   \n",
       "1382     20,333.00         1.00           NaN             0             1   \n",
       "1061      1,753.00         1.00             2             2             2   \n",
       "\n",
       "     Network_Love2  Churn_Status  \n",
       "499              4          1.00  \n",
       "1190             2          1.00  \n",
       "599              2          0.00  \n",
       "1102             2          0.00  \n",
       "377              1          0.00  \n",
       "958              3          1.00  \n",
       "81               1          1.00  \n",
       "336              3          1.00  \n",
       "872              2          1.00  \n",
       "609              2          0.00  \n",
       "34               1          0.00  \n",
       "522              2          0.00  \n",
       "391              1          0.00  \n",
       "1352             2          0.00  \n",
       "518              2          0.00  \n",
       "96               4          1.00  \n",
       "723              2          0.00  \n",
       "496              4          1.00  \n",
       "1382             2          1.00  \n",
       "1061             2          0.00  "
      ]
     },
     "execution_count": 63,
     "metadata": {},
     "output_type": "execute_result"
    }
   ],
   "source": [
    "train.sample(20)"
   ]
  },
  {
   "cell_type": "code",
   "execution_count": 64,
   "metadata": {
    "collapsed": true
   },
   "outputs": [],
   "source": [
    "train = train.drop('ID', 1)\n",
    "train= train.drop('Age_Days', 1)"
   ]
  },
  {
   "cell_type": "code",
   "execution_count": 65,
   "metadata": {
    "collapsed": true
   },
   "outputs": [],
   "source": [
    "# from sklearn.preprocessing import LabelEncoder, OneHotEncoder\n",
    "\n",
    "# def encode(column, df):\n",
    "#     labelencoder_X = LabelEncoder()\n",
    "#     column = labelencoder_X.fit_transform(column)\n",
    "#     onehotencoder = OneHotEncoder(categorical_features = 'all')\n",
    "#     df = onehotencoder.fit_transform(df).toarray()"
   ]
  },
  {
   "cell_type": "code",
   "execution_count": null,
   "metadata": {
    "collapsed": true
   },
   "outputs": [],
   "source": []
  },
  {
   "cell_type": "code",
   "execution_count": 66,
   "metadata": {
    "collapsed": true
   },
   "outputs": [],
   "source": [
    "# making our matrix and vector\n",
    "X_train = train.iloc[:, :-1].values #matrix (independent features)\n",
    "\n",
    "y_train = train.iloc[:, 13].values #vector (dependent feature)"
   ]
  },
  {
   "cell_type": "code",
   "execution_count": null,
   "metadata": {
    "collapsed": true
   },
   "outputs": [],
   "source": []
  },
  {
   "cell_type": "code",
   "execution_count": 67,
   "metadata": {
    "collapsed": true
   },
   "outputs": [],
   "source": [
    "#filling NAN VALUES\n",
    "\n",
    "from sklearn.preprocessing import Imputer\n",
    "imputer = Imputer(missing_values = 'NaN', strategy = 'mean', axis = 0)\n",
    "imputer = imputer.fit(X_train)\n",
    "X_train = imputer.transform(X_train)"
   ]
  },
  {
   "cell_type": "code",
   "execution_count": null,
   "metadata": {
    "collapsed": true
   },
   "outputs": [],
   "source": []
  },
  {
   "cell_type": "code",
   "execution_count": 68,
   "metadata": {
    "collapsed": true
   },
   "outputs": [],
   "source": [
    "#from sklearn.preprocessing import OneHotEncoder"
   ]
  },
  {
   "cell_type": "code",
   "execution_count": 69,
   "metadata": {},
   "outputs": [
    {
     "data": {
      "text/html": [
       "<div>\n",
       "<style>\n",
       "    .dataframe thead tr:only-child th {\n",
       "        text-align: right;\n",
       "    }\n",
       "\n",
       "    .dataframe thead th {\n",
       "        text-align: left;\n",
       "    }\n",
       "\n",
       "    .dataframe tbody tr th {\n",
       "        vertical-align: top;\n",
       "    }\n",
       "</style>\n",
       "<table border=\"1\" class=\"dataframe\">\n",
       "  <thead>\n",
       "    <tr style=\"text-align: right;\">\n",
       "      <th></th>\n",
       "      <th>Customer ID</th>\n",
       "      <th>network_age</th>\n",
       "      <th>Customer tenure in month</th>\n",
       "      <th>Total Spend in Months 1 and 2 of 2017</th>\n",
       "      <th>Total SMS Spend</th>\n",
       "      <th>Total Data Spend</th>\n",
       "      <th>Total Data Consumption</th>\n",
       "      <th>Total Unique Calls</th>\n",
       "      <th>Total Onnet spend</th>\n",
       "      <th>Total Offnet spend</th>\n",
       "      <th>Total Call centre complaint calls</th>\n",
       "      <th>Network type subscription in Month 1</th>\n",
       "      <th>Network type subscription in Month 2</th>\n",
       "      <th>Most Loved Competitor network in in Month 1</th>\n",
       "      <th>Most Loved Competitor network in in Month 2</th>\n",
       "    </tr>\n",
       "  </thead>\n",
       "  <tbody>\n",
       "    <tr>\n",
       "      <th>0</th>\n",
       "      <td>ADF0001</td>\n",
       "      <td>1012</td>\n",
       "      <td>33.73</td>\n",
       "      <td>1,560.12</td>\n",
       "      <td>14.04</td>\n",
       "      <td>226.30</td>\n",
       "      <td>3,126,093.30</td>\n",
       "      <td>64</td>\n",
       "      <td>14503</td>\n",
       "      <td>12402</td>\n",
       "      <td>1</td>\n",
       "      <td>3G</td>\n",
       "      <td>3G</td>\n",
       "      <td>Weematel</td>\n",
       "      <td>Mango</td>\n",
       "    </tr>\n",
       "    <tr>\n",
       "      <th>1</th>\n",
       "      <td>ADF0002</td>\n",
       "      <td>137</td>\n",
       "      <td>4.57</td>\n",
       "      <td>1,705.84</td>\n",
       "      <td>73.63</td>\n",
       "      <td>5.00</td>\n",
       "      <td>162.88</td>\n",
       "      <td>515</td>\n",
       "      <td>29832</td>\n",
       "      <td>88953</td>\n",
       "      <td>9</td>\n",
       "      <td>3G</td>\n",
       "      <td>3G</td>\n",
       "      <td>ToCall</td>\n",
       "      <td>Mango</td>\n",
       "    </tr>\n",
       "    <tr>\n",
       "      <th>2</th>\n",
       "      <td>ADF0003</td>\n",
       "      <td>202</td>\n",
       "      <td>6.73</td>\n",
       "      <td>1,720.30</td>\n",
       "      <td>4.36</td>\n",
       "      <td>245.00</td>\n",
       "      <td>3,334,606.97</td>\n",
       "      <td>163</td>\n",
       "      <td>228</td>\n",
       "      <td>1495</td>\n",
       "      <td>1</td>\n",
       "      <td>3G</td>\n",
       "      <td>3G</td>\n",
       "      <td>ToCall</td>\n",
       "      <td>Mango</td>\n",
       "    </tr>\n",
       "    <tr>\n",
       "      <th>3</th>\n",
       "      <td>ADF0004</td>\n",
       "      <td>165</td>\n",
       "      <td>5.50</td>\n",
       "      <td>1,732.28</td>\n",
       "      <td>0.00</td>\n",
       "      <td>12.50</td>\n",
       "      <td>668,292.39</td>\n",
       "      <td>484</td>\n",
       "      <td>0</td>\n",
       "      <td>71928</td>\n",
       "      <td>2</td>\n",
       "      <td>3G</td>\n",
       "      <td>3G</td>\n",
       "      <td>Uxaa</td>\n",
       "      <td>Mango</td>\n",
       "    </tr>\n",
       "    <tr>\n",
       "      <th>4</th>\n",
       "      <td>ADF0005</td>\n",
       "      <td>759</td>\n",
       "      <td>25.30</td>\n",
       "      <td>1,873.06</td>\n",
       "      <td>69.57</td>\n",
       "      <td>412.50</td>\n",
       "      <td>6,666,974.78</td>\n",
       "      <td>64</td>\n",
       "      <td>7616</td>\n",
       "      <td>20753</td>\n",
       "      <td>2</td>\n",
       "      <td>3G</td>\n",
       "      <td>3G</td>\n",
       "      <td>Mango</td>\n",
       "      <td>Mango</td>\n",
       "    </tr>\n",
       "    <tr>\n",
       "      <th>5</th>\n",
       "      <td>ADF0006</td>\n",
       "      <td>129</td>\n",
       "      <td>4.30</td>\n",
       "      <td>1,877.26</td>\n",
       "      <td>46.11</td>\n",
       "      <td>343.75</td>\n",
       "      <td>3,387,698.23</td>\n",
       "      <td>121</td>\n",
       "      <td>0</td>\n",
       "      <td>20944</td>\n",
       "      <td>1</td>\n",
       "      <td>3G</td>\n",
       "      <td>3G</td>\n",
       "      <td>PQza</td>\n",
       "      <td>Mango</td>\n",
       "    </tr>\n",
       "    <tr>\n",
       "      <th>6</th>\n",
       "      <td>ADF0007</td>\n",
       "      <td>148</td>\n",
       "      <td>4.93</td>\n",
       "      <td>2,388.82</td>\n",
       "      <td>17.99</td>\n",
       "      <td>1.25</td>\n",
       "      <td>129,167.68</td>\n",
       "      <td>830</td>\n",
       "      <td>0</td>\n",
       "      <td>93461</td>\n",
       "      <td>1</td>\n",
       "      <td>NaN</td>\n",
       "      <td>3G</td>\n",
       "      <td>0</td>\n",
       "      <td>Mango</td>\n",
       "    </tr>\n",
       "    <tr>\n",
       "      <th>7</th>\n",
       "      <td>ADF0008</td>\n",
       "      <td>1144</td>\n",
       "      <td>38.13</td>\n",
       "      <td>2,702.35</td>\n",
       "      <td>47.84</td>\n",
       "      <td>48.75</td>\n",
       "      <td>3,390.06</td>\n",
       "      <td>431</td>\n",
       "      <td>60102</td>\n",
       "      <td>131525</td>\n",
       "      <td>1</td>\n",
       "      <td>3G</td>\n",
       "      <td>3G</td>\n",
       "      <td>Mango</td>\n",
       "      <td>Mango</td>\n",
       "    </tr>\n",
       "    <tr>\n",
       "      <th>8</th>\n",
       "      <td>ADF0009</td>\n",
       "      <td>137</td>\n",
       "      <td>4.57</td>\n",
       "      <td>2,782.56</td>\n",
       "      <td>179.52</td>\n",
       "      <td>315.00</td>\n",
       "      <td>3,632,010.69</td>\n",
       "      <td>622</td>\n",
       "      <td>0</td>\n",
       "      <td>40724</td>\n",
       "      <td>2</td>\n",
       "      <td>3G</td>\n",
       "      <td>3G</td>\n",
       "      <td>Weematel</td>\n",
       "      <td>Mango</td>\n",
       "    </tr>\n",
       "    <tr>\n",
       "      <th>9</th>\n",
       "      <td>ADF0010</td>\n",
       "      <td>1456</td>\n",
       "      <td>48.53</td>\n",
       "      <td>2,934.70</td>\n",
       "      <td>200.37</td>\n",
       "      <td>108.75</td>\n",
       "      <td>40,638.89</td>\n",
       "      <td>892</td>\n",
       "      <td>16572</td>\n",
       "      <td>150693</td>\n",
       "      <td>1</td>\n",
       "      <td>Other</td>\n",
       "      <td>Other</td>\n",
       "      <td>PQza</td>\n",
       "      <td>Mango</td>\n",
       "    </tr>\n",
       "    <tr>\n",
       "      <th>10</th>\n",
       "      <td>ADF0011</td>\n",
       "      <td>462</td>\n",
       "      <td>15.40</td>\n",
       "      <td>3,099.46</td>\n",
       "      <td>0.00</td>\n",
       "      <td>178.87</td>\n",
       "      <td>2,271,782.65</td>\n",
       "      <td>833</td>\n",
       "      <td>2327</td>\n",
       "      <td>37510</td>\n",
       "      <td>12</td>\n",
       "      <td>Other</td>\n",
       "      <td>Other</td>\n",
       "      <td>PQza</td>\n",
       "      <td>Mango</td>\n",
       "    </tr>\n",
       "    <tr>\n",
       "      <th>11</th>\n",
       "      <td>ADF0012</td>\n",
       "      <td>1615</td>\n",
       "      <td>53.83</td>\n",
       "      <td>263.77</td>\n",
       "      <td>32.65</td>\n",
       "      <td>21.25</td>\n",
       "      <td>900.16</td>\n",
       "      <td>38</td>\n",
       "      <td>2352</td>\n",
       "      <td>9658</td>\n",
       "      <td>1</td>\n",
       "      <td>3G</td>\n",
       "      <td>3G</td>\n",
       "      <td>Mango</td>\n",
       "      <td>Mango</td>\n",
       "    </tr>\n",
       "    <tr>\n",
       "      <th>12</th>\n",
       "      <td>ADF0013</td>\n",
       "      <td>1422</td>\n",
       "      <td>47.40</td>\n",
       "      <td>292.44</td>\n",
       "      <td>45.16</td>\n",
       "      <td>0.00</td>\n",
       "      <td>130,874.60</td>\n",
       "      <td>24</td>\n",
       "      <td>0</td>\n",
       "      <td>8627</td>\n",
       "      <td>1</td>\n",
       "      <td>3G</td>\n",
       "      <td>3G</td>\n",
       "      <td>Mango</td>\n",
       "      <td>Mango</td>\n",
       "    </tr>\n",
       "    <tr>\n",
       "      <th>13</th>\n",
       "      <td>ADF0014</td>\n",
       "      <td>1987</td>\n",
       "      <td>66.23</td>\n",
       "      <td>362.81</td>\n",
       "      <td>18.95</td>\n",
       "      <td>0.00</td>\n",
       "      <td>4,635.31</td>\n",
       "      <td>43</td>\n",
       "      <td>2773</td>\n",
       "      <td>14879</td>\n",
       "      <td>1</td>\n",
       "      <td>3G</td>\n",
       "      <td>3G</td>\n",
       "      <td>Mango</td>\n",
       "      <td>Mango</td>\n",
       "    </tr>\n",
       "    <tr>\n",
       "      <th>14</th>\n",
       "      <td>ADF0015</td>\n",
       "      <td>2128</td>\n",
       "      <td>70.93</td>\n",
       "      <td>364.00</td>\n",
       "      <td>43.38</td>\n",
       "      <td>71.25</td>\n",
       "      <td>2,743.75</td>\n",
       "      <td>33</td>\n",
       "      <td>3880</td>\n",
       "      <td>12629</td>\n",
       "      <td>1</td>\n",
       "      <td>3G</td>\n",
       "      <td>2G</td>\n",
       "      <td>PQza</td>\n",
       "      <td>Mango</td>\n",
       "    </tr>\n",
       "    <tr>\n",
       "      <th>15</th>\n",
       "      <td>ADF0016</td>\n",
       "      <td>479</td>\n",
       "      <td>15.97</td>\n",
       "      <td>390.73</td>\n",
       "      <td>36.40</td>\n",
       "      <td>0.00</td>\n",
       "      <td>16,974.78</td>\n",
       "      <td>18</td>\n",
       "      <td>0</td>\n",
       "      <td>13934</td>\n",
       "      <td>1</td>\n",
       "      <td>2G</td>\n",
       "      <td>2G</td>\n",
       "      <td>Mango</td>\n",
       "      <td>Mango</td>\n",
       "    </tr>\n",
       "    <tr>\n",
       "      <th>16</th>\n",
       "      <td>ADF0017</td>\n",
       "      <td>348</td>\n",
       "      <td>11.60</td>\n",
       "      <td>404.60</td>\n",
       "      <td>54.81</td>\n",
       "      <td>17.50</td>\n",
       "      <td>198,986.25</td>\n",
       "      <td>44</td>\n",
       "      <td>2292</td>\n",
       "      <td>5135</td>\n",
       "      <td>1</td>\n",
       "      <td>3G</td>\n",
       "      <td>3G</td>\n",
       "      <td>Mango</td>\n",
       "      <td>Mango</td>\n",
       "    </tr>\n",
       "    <tr>\n",
       "      <th>17</th>\n",
       "      <td>ADF0018</td>\n",
       "      <td>1884</td>\n",
       "      <td>62.80</td>\n",
       "      <td>438.49</td>\n",
       "      <td>38.30</td>\n",
       "      <td>20.00</td>\n",
       "      <td>3,461.68</td>\n",
       "      <td>57</td>\n",
       "      <td>6657</td>\n",
       "      <td>13780</td>\n",
       "      <td>1</td>\n",
       "      <td>3G</td>\n",
       "      <td>3G</td>\n",
       "      <td>Zintel</td>\n",
       "      <td>Mango</td>\n",
       "    </tr>\n",
       "    <tr>\n",
       "      <th>18</th>\n",
       "      <td>ADF0019</td>\n",
       "      <td>642</td>\n",
       "      <td>21.40</td>\n",
       "      <td>453.05</td>\n",
       "      <td>42.95</td>\n",
       "      <td>11.25</td>\n",
       "      <td>59,029.09</td>\n",
       "      <td>65</td>\n",
       "      <td>5826</td>\n",
       "      <td>12797</td>\n",
       "      <td>1</td>\n",
       "      <td>2G</td>\n",
       "      <td>2G</td>\n",
       "      <td>PQza</td>\n",
       "      <td>Mango</td>\n",
       "    </tr>\n",
       "    <tr>\n",
       "      <th>19</th>\n",
       "      <td>ADF0020</td>\n",
       "      <td>150</td>\n",
       "      <td>5.00</td>\n",
       "      <td>454.64</td>\n",
       "      <td>1.75</td>\n",
       "      <td>83.75</td>\n",
       "      <td>842,766.97</td>\n",
       "      <td>6</td>\n",
       "      <td>0</td>\n",
       "      <td>1005</td>\n",
       "      <td>1</td>\n",
       "      <td>3G</td>\n",
       "      <td>3G</td>\n",
       "      <td>Mango</td>\n",
       "      <td>Mango</td>\n",
       "    </tr>\n",
       "    <tr>\n",
       "      <th>20</th>\n",
       "      <td>ADF0021</td>\n",
       "      <td>206</td>\n",
       "      <td>6.87</td>\n",
       "      <td>455.07</td>\n",
       "      <td>0.00</td>\n",
       "      <td>137.50</td>\n",
       "      <td>64,054,568.84</td>\n",
       "      <td>12</td>\n",
       "      <td>0</td>\n",
       "      <td>2277</td>\n",
       "      <td>1</td>\n",
       "      <td>3G</td>\n",
       "      <td>3G</td>\n",
       "      <td>Weematel</td>\n",
       "      <td>Mango</td>\n",
       "    </tr>\n",
       "    <tr>\n",
       "      <th>21</th>\n",
       "      <td>ADF0022</td>\n",
       "      <td>174</td>\n",
       "      <td>5.80</td>\n",
       "      <td>457.68</td>\n",
       "      <td>96.93</td>\n",
       "      <td>12.50</td>\n",
       "      <td>191.57</td>\n",
       "      <td>114</td>\n",
       "      <td>708</td>\n",
       "      <td>22437</td>\n",
       "      <td>1</td>\n",
       "      <td>3G</td>\n",
       "      <td>3G</td>\n",
       "      <td>Uxaa</td>\n",
       "      <td>Mango</td>\n",
       "    </tr>\n",
       "    <tr>\n",
       "      <th>22</th>\n",
       "      <td>ADF0023</td>\n",
       "      <td>2783</td>\n",
       "      <td>92.77</td>\n",
       "      <td>459.90</td>\n",
       "      <td>116.76</td>\n",
       "      <td>26.25</td>\n",
       "      <td>4,065,074.86</td>\n",
       "      <td>43</td>\n",
       "      <td>558</td>\n",
       "      <td>12040</td>\n",
       "      <td>3</td>\n",
       "      <td>3G</td>\n",
       "      <td>3G</td>\n",
       "      <td>Uxaa</td>\n",
       "      <td>Mango</td>\n",
       "    </tr>\n",
       "    <tr>\n",
       "      <th>23</th>\n",
       "      <td>ADF0024</td>\n",
       "      <td>2018</td>\n",
       "      <td>67.27</td>\n",
       "      <td>468.92</td>\n",
       "      <td>7.17</td>\n",
       "      <td>3.75</td>\n",
       "      <td>7.44</td>\n",
       "      <td>108</td>\n",
       "      <td>1854</td>\n",
       "      <td>29087</td>\n",
       "      <td>1</td>\n",
       "      <td>3G</td>\n",
       "      <td>3G</td>\n",
       "      <td>Mango</td>\n",
       "      <td>Mango</td>\n",
       "    </tr>\n",
       "    <tr>\n",
       "      <th>24</th>\n",
       "      <td>ADF0025</td>\n",
       "      <td>936</td>\n",
       "      <td>31.20</td>\n",
       "      <td>493.13</td>\n",
       "      <td>32.29</td>\n",
       "      <td>26.25</td>\n",
       "      <td>6,733.90</td>\n",
       "      <td>52</td>\n",
       "      <td>12</td>\n",
       "      <td>20042</td>\n",
       "      <td>1</td>\n",
       "      <td>2G</td>\n",
       "      <td>2G</td>\n",
       "      <td>Mango</td>\n",
       "      <td>Mango</td>\n",
       "    </tr>\n",
       "    <tr>\n",
       "      <th>25</th>\n",
       "      <td>ADF0026</td>\n",
       "      <td>2150</td>\n",
       "      <td>71.67</td>\n",
       "      <td>501.04</td>\n",
       "      <td>34.87</td>\n",
       "      <td>0.00</td>\n",
       "      <td>2,568.80</td>\n",
       "      <td>68</td>\n",
       "      <td>2862</td>\n",
       "      <td>18731</td>\n",
       "      <td>1</td>\n",
       "      <td>Other</td>\n",
       "      <td>Other</td>\n",
       "      <td>Uxaa</td>\n",
       "      <td>Mango</td>\n",
       "    </tr>\n",
       "    <tr>\n",
       "      <th>26</th>\n",
       "      <td>ADF0027</td>\n",
       "      <td>1006</td>\n",
       "      <td>33.53</td>\n",
       "      <td>502.36</td>\n",
       "      <td>16.09</td>\n",
       "      <td>7.50</td>\n",
       "      <td>274.99</td>\n",
       "      <td>131</td>\n",
       "      <td>750</td>\n",
       "      <td>30688</td>\n",
       "      <td>1</td>\n",
       "      <td>3G</td>\n",
       "      <td>3G</td>\n",
       "      <td>ToCall</td>\n",
       "      <td>Mango</td>\n",
       "    </tr>\n",
       "    <tr>\n",
       "      <th>27</th>\n",
       "      <td>ADF0028</td>\n",
       "      <td>105</td>\n",
       "      <td>3.50</td>\n",
       "      <td>508.58</td>\n",
       "      <td>7.73</td>\n",
       "      <td>16.25</td>\n",
       "      <td>35,765.99</td>\n",
       "      <td>67</td>\n",
       "      <td>120</td>\n",
       "      <td>17324</td>\n",
       "      <td>1</td>\n",
       "      <td>NaN</td>\n",
       "      <td>3G</td>\n",
       "      <td>ToCall</td>\n",
       "      <td>Mango</td>\n",
       "    </tr>\n",
       "    <tr>\n",
       "      <th>28</th>\n",
       "      <td>ADF0029</td>\n",
       "      <td>233</td>\n",
       "      <td>7.77</td>\n",
       "      <td>509.25</td>\n",
       "      <td>36.21</td>\n",
       "      <td>15.00</td>\n",
       "      <td>674.51</td>\n",
       "      <td>145</td>\n",
       "      <td>4392</td>\n",
       "      <td>31497</td>\n",
       "      <td>1</td>\n",
       "      <td>Other</td>\n",
       "      <td>Other</td>\n",
       "      <td>ToCall</td>\n",
       "      <td>Mango</td>\n",
       "    </tr>\n",
       "    <tr>\n",
       "      <th>29</th>\n",
       "      <td>ADF0030</td>\n",
       "      <td>1251</td>\n",
       "      <td>41.70</td>\n",
       "      <td>514.88</td>\n",
       "      <td>45.88</td>\n",
       "      <td>3.75</td>\n",
       "      <td>6.01</td>\n",
       "      <td>174</td>\n",
       "      <td>708</td>\n",
       "      <td>38807</td>\n",
       "      <td>1</td>\n",
       "      <td>2G</td>\n",
       "      <td>2G</td>\n",
       "      <td>Zintel</td>\n",
       "      <td>Mango</td>\n",
       "    </tr>\n",
       "    <tr>\n",
       "      <th>...</th>\n",
       "      <td>...</td>\n",
       "      <td>...</td>\n",
       "      <td>...</td>\n",
       "      <td>...</td>\n",
       "      <td>...</td>\n",
       "      <td>...</td>\n",
       "      <td>...</td>\n",
       "      <td>...</td>\n",
       "      <td>...</td>\n",
       "      <td>...</td>\n",
       "      <td>...</td>\n",
       "      <td>...</td>\n",
       "      <td>...</td>\n",
       "      <td>...</td>\n",
       "      <td>...</td>\n",
       "    </tr>\n",
       "    <tr>\n",
       "      <th>570</th>\n",
       "      <td>ADF1873</td>\n",
       "      <td>231</td>\n",
       "      <td>7.70</td>\n",
       "      <td>410.99</td>\n",
       "      <td>0.00</td>\n",
       "      <td>88.75</td>\n",
       "      <td>15,544,589.01</td>\n",
       "      <td>20</td>\n",
       "      <td>0</td>\n",
       "      <td>3340</td>\n",
       "      <td>1</td>\n",
       "      <td>3G</td>\n",
       "      <td>3G</td>\n",
       "      <td>Weematel</td>\n",
       "      <td>Weematel</td>\n",
       "    </tr>\n",
       "    <tr>\n",
       "      <th>571</th>\n",
       "      <td>ADF1874</td>\n",
       "      <td>218</td>\n",
       "      <td>7.27</td>\n",
       "      <td>412.21</td>\n",
       "      <td>11.10</td>\n",
       "      <td>6.25</td>\n",
       "      <td>2,989,776.35</td>\n",
       "      <td>43</td>\n",
       "      <td>510</td>\n",
       "      <td>9358</td>\n",
       "      <td>1</td>\n",
       "      <td>3G</td>\n",
       "      <td>3G</td>\n",
       "      <td>Weematel</td>\n",
       "      <td>Weematel</td>\n",
       "    </tr>\n",
       "    <tr>\n",
       "      <th>572</th>\n",
       "      <td>ADF1875</td>\n",
       "      <td>2874</td>\n",
       "      <td>95.80</td>\n",
       "      <td>534.31</td>\n",
       "      <td>0.00</td>\n",
       "      <td>193.75</td>\n",
       "      <td>143,600.93</td>\n",
       "      <td>47</td>\n",
       "      <td>4904</td>\n",
       "      <td>16128</td>\n",
       "      <td>3</td>\n",
       "      <td>3G</td>\n",
       "      <td>3G</td>\n",
       "      <td>Weematel</td>\n",
       "      <td>Weematel</td>\n",
       "    </tr>\n",
       "    <tr>\n",
       "      <th>573</th>\n",
       "      <td>ADF1876</td>\n",
       "      <td>2838</td>\n",
       "      <td>94.60</td>\n",
       "      <td>544.10</td>\n",
       "      <td>19.72</td>\n",
       "      <td>6.25</td>\n",
       "      <td>434,624.27</td>\n",
       "      <td>187</td>\n",
       "      <td>502</td>\n",
       "      <td>6561</td>\n",
       "      <td>5</td>\n",
       "      <td>Other</td>\n",
       "      <td>Other</td>\n",
       "      <td>Uxaa</td>\n",
       "      <td>Weematel</td>\n",
       "    </tr>\n",
       "    <tr>\n",
       "      <th>574</th>\n",
       "      <td>ADF1877</td>\n",
       "      <td>96</td>\n",
       "      <td>3.20</td>\n",
       "      <td>570.08</td>\n",
       "      <td>1.75</td>\n",
       "      <td>0.00</td>\n",
       "      <td>324.43</td>\n",
       "      <td>103</td>\n",
       "      <td>372</td>\n",
       "      <td>9352</td>\n",
       "      <td>8</td>\n",
       "      <td>NaN</td>\n",
       "      <td>3G</td>\n",
       "      <td>Zintel</td>\n",
       "      <td>Weematel</td>\n",
       "    </tr>\n",
       "    <tr>\n",
       "      <th>575</th>\n",
       "      <td>ADF1878</td>\n",
       "      <td>1033</td>\n",
       "      <td>34.43</td>\n",
       "      <td>596.41</td>\n",
       "      <td>24.84</td>\n",
       "      <td>25.00</td>\n",
       "      <td>2,702.46</td>\n",
       "      <td>78</td>\n",
       "      <td>5880</td>\n",
       "      <td>44591</td>\n",
       "      <td>1</td>\n",
       "      <td>3G</td>\n",
       "      <td>3G</td>\n",
       "      <td>Weematel</td>\n",
       "      <td>Weematel</td>\n",
       "    </tr>\n",
       "    <tr>\n",
       "      <th>576</th>\n",
       "      <td>ADF1930</td>\n",
       "      <td>135</td>\n",
       "      <td>4.50</td>\n",
       "      <td>1,321.82</td>\n",
       "      <td>308.42</td>\n",
       "      <td>218.75</td>\n",
       "      <td>95,368.50</td>\n",
       "      <td>235</td>\n",
       "      <td>21096</td>\n",
       "      <td>34919</td>\n",
       "      <td>1</td>\n",
       "      <td>3G</td>\n",
       "      <td>3G</td>\n",
       "      <td>Zintel</td>\n",
       "      <td>Zintel</td>\n",
       "    </tr>\n",
       "    <tr>\n",
       "      <th>577</th>\n",
       "      <td>ADF1931</td>\n",
       "      <td>3696</td>\n",
       "      <td>123.20</td>\n",
       "      <td>1,703.37</td>\n",
       "      <td>10.08</td>\n",
       "      <td>0.00</td>\n",
       "      <td>363,433.38</td>\n",
       "      <td>212</td>\n",
       "      <td>660</td>\n",
       "      <td>4493</td>\n",
       "      <td>2</td>\n",
       "      <td>NaN</td>\n",
       "      <td>NaN</td>\n",
       "      <td>ToCall</td>\n",
       "      <td>Zintel</td>\n",
       "    </tr>\n",
       "    <tr>\n",
       "      <th>578</th>\n",
       "      <td>ADF1932</td>\n",
       "      <td>214</td>\n",
       "      <td>7.13</td>\n",
       "      <td>226.31</td>\n",
       "      <td>8.75</td>\n",
       "      <td>33.75</td>\n",
       "      <td>21,961,600.71</td>\n",
       "      <td>49</td>\n",
       "      <td>114</td>\n",
       "      <td>9032</td>\n",
       "      <td>1</td>\n",
       "      <td>3G</td>\n",
       "      <td>3G</td>\n",
       "      <td>0</td>\n",
       "      <td>Zintel</td>\n",
       "    </tr>\n",
       "    <tr>\n",
       "      <th>579</th>\n",
       "      <td>ADF1933</td>\n",
       "      <td>978</td>\n",
       "      <td>32.60</td>\n",
       "      <td>259.94</td>\n",
       "      <td>23.26</td>\n",
       "      <td>23.75</td>\n",
       "      <td>905,925.87</td>\n",
       "      <td>10</td>\n",
       "      <td>0</td>\n",
       "      <td>1845</td>\n",
       "      <td>1</td>\n",
       "      <td>3G</td>\n",
       "      <td>3G</td>\n",
       "      <td>Zintel</td>\n",
       "      <td>Zintel</td>\n",
       "    </tr>\n",
       "    <tr>\n",
       "      <th>580</th>\n",
       "      <td>ADF1934</td>\n",
       "      <td>358</td>\n",
       "      <td>11.93</td>\n",
       "      <td>270.47</td>\n",
       "      <td>60.32</td>\n",
       "      <td>1.25</td>\n",
       "      <td>4.85</td>\n",
       "      <td>48</td>\n",
       "      <td>1524</td>\n",
       "      <td>8093</td>\n",
       "      <td>1</td>\n",
       "      <td>2G</td>\n",
       "      <td>2G</td>\n",
       "      <td>Uxaa</td>\n",
       "      <td>Zintel</td>\n",
       "    </tr>\n",
       "    <tr>\n",
       "      <th>581</th>\n",
       "      <td>ADF1935</td>\n",
       "      <td>873</td>\n",
       "      <td>29.10</td>\n",
       "      <td>274.64</td>\n",
       "      <td>37.48</td>\n",
       "      <td>26.25</td>\n",
       "      <td>7,724.90</td>\n",
       "      <td>17</td>\n",
       "      <td>7212</td>\n",
       "      <td>3702</td>\n",
       "      <td>5</td>\n",
       "      <td>3G</td>\n",
       "      <td>3G</td>\n",
       "      <td>Weematel</td>\n",
       "      <td>Zintel</td>\n",
       "    </tr>\n",
       "    <tr>\n",
       "      <th>582</th>\n",
       "      <td>ADF1936</td>\n",
       "      <td>113</td>\n",
       "      <td>3.77</td>\n",
       "      <td>286.09</td>\n",
       "      <td>0.00</td>\n",
       "      <td>60.76</td>\n",
       "      <td>2,637,011.44</td>\n",
       "      <td>8</td>\n",
       "      <td>2695</td>\n",
       "      <td>1610</td>\n",
       "      <td>1</td>\n",
       "      <td>NaN</td>\n",
       "      <td>3G</td>\n",
       "      <td>ToCall</td>\n",
       "      <td>Zintel</td>\n",
       "    </tr>\n",
       "    <tr>\n",
       "      <th>583</th>\n",
       "      <td>ADF1937</td>\n",
       "      <td>439</td>\n",
       "      <td>14.63</td>\n",
       "      <td>290.82</td>\n",
       "      <td>12.42</td>\n",
       "      <td>30.00</td>\n",
       "      <td>6,379,885.93</td>\n",
       "      <td>53</td>\n",
       "      <td>216</td>\n",
       "      <td>10240</td>\n",
       "      <td>1</td>\n",
       "      <td>2G</td>\n",
       "      <td>2G</td>\n",
       "      <td>Uxaa</td>\n",
       "      <td>Zintel</td>\n",
       "    </tr>\n",
       "    <tr>\n",
       "      <th>584</th>\n",
       "      <td>ADF1938</td>\n",
       "      <td>111</td>\n",
       "      <td>3.70</td>\n",
       "      <td>292.35</td>\n",
       "      <td>164.50</td>\n",
       "      <td>0.00</td>\n",
       "      <td>1,017.62</td>\n",
       "      <td>43</td>\n",
       "      <td>2064</td>\n",
       "      <td>8879</td>\n",
       "      <td>1</td>\n",
       "      <td>NaN</td>\n",
       "      <td>3G</td>\n",
       "      <td>Mango</td>\n",
       "      <td>Zintel</td>\n",
       "    </tr>\n",
       "    <tr>\n",
       "      <th>585</th>\n",
       "      <td>ADF1939</td>\n",
       "      <td>1361</td>\n",
       "      <td>45.37</td>\n",
       "      <td>299.45</td>\n",
       "      <td>11.36</td>\n",
       "      <td>52.50</td>\n",
       "      <td>2,545.62</td>\n",
       "      <td>16</td>\n",
       "      <td>318</td>\n",
       "      <td>9611</td>\n",
       "      <td>14</td>\n",
       "      <td>3G</td>\n",
       "      <td>3G</td>\n",
       "      <td>PQza</td>\n",
       "      <td>Zintel</td>\n",
       "    </tr>\n",
       "    <tr>\n",
       "      <th>586</th>\n",
       "      <td>ADF1940</td>\n",
       "      <td>744</td>\n",
       "      <td>24.80</td>\n",
       "      <td>301.70</td>\n",
       "      <td>27.32</td>\n",
       "      <td>0.00</td>\n",
       "      <td>1,169.43</td>\n",
       "      <td>31</td>\n",
       "      <td>260</td>\n",
       "      <td>8962</td>\n",
       "      <td>1</td>\n",
       "      <td>2G</td>\n",
       "      <td>2G</td>\n",
       "      <td>Uxaa</td>\n",
       "      <td>Zintel</td>\n",
       "    </tr>\n",
       "    <tr>\n",
       "      <th>587</th>\n",
       "      <td>ADF1941</td>\n",
       "      <td>2437</td>\n",
       "      <td>81.23</td>\n",
       "      <td>305.85</td>\n",
       "      <td>13.15</td>\n",
       "      <td>23.75</td>\n",
       "      <td>9,570.38</td>\n",
       "      <td>27</td>\n",
       "      <td>3179</td>\n",
       "      <td>7183</td>\n",
       "      <td>1</td>\n",
       "      <td>2G</td>\n",
       "      <td>2G</td>\n",
       "      <td>Mango</td>\n",
       "      <td>Zintel</td>\n",
       "    </tr>\n",
       "    <tr>\n",
       "      <th>588</th>\n",
       "      <td>ADF1942</td>\n",
       "      <td>138</td>\n",
       "      <td>4.60</td>\n",
       "      <td>311.73</td>\n",
       "      <td>33.55</td>\n",
       "      <td>11.25</td>\n",
       "      <td>2,721,658.58</td>\n",
       "      <td>15</td>\n",
       "      <td>1632</td>\n",
       "      <td>934</td>\n",
       "      <td>1</td>\n",
       "      <td>Other</td>\n",
       "      <td>Other</td>\n",
       "      <td>Zintel</td>\n",
       "      <td>Zintel</td>\n",
       "    </tr>\n",
       "    <tr>\n",
       "      <th>589</th>\n",
       "      <td>ADF1943</td>\n",
       "      <td>3187</td>\n",
       "      <td>106.23</td>\n",
       "      <td>335.21</td>\n",
       "      <td>17.27</td>\n",
       "      <td>45.00</td>\n",
       "      <td>658,241.82</td>\n",
       "      <td>12</td>\n",
       "      <td>468</td>\n",
       "      <td>1373</td>\n",
       "      <td>1</td>\n",
       "      <td>3G</td>\n",
       "      <td>3G</td>\n",
       "      <td>Zintel</td>\n",
       "      <td>Zintel</td>\n",
       "    </tr>\n",
       "    <tr>\n",
       "      <th>590</th>\n",
       "      <td>ADF1944</td>\n",
       "      <td>568</td>\n",
       "      <td>18.93</td>\n",
       "      <td>337.65</td>\n",
       "      <td>43.68</td>\n",
       "      <td>1.25</td>\n",
       "      <td>8.37</td>\n",
       "      <td>41</td>\n",
       "      <td>7380</td>\n",
       "      <td>4536</td>\n",
       "      <td>1</td>\n",
       "      <td>Other</td>\n",
       "      <td>Other</td>\n",
       "      <td>Uxaa</td>\n",
       "      <td>Zintel</td>\n",
       "    </tr>\n",
       "    <tr>\n",
       "      <th>591</th>\n",
       "      <td>ADF1945</td>\n",
       "      <td>572</td>\n",
       "      <td>19.07</td>\n",
       "      <td>371.53</td>\n",
       "      <td>8.92</td>\n",
       "      <td>61.25</td>\n",
       "      <td>155,118.86</td>\n",
       "      <td>58</td>\n",
       "      <td>1500</td>\n",
       "      <td>13745</td>\n",
       "      <td>1</td>\n",
       "      <td>NaN</td>\n",
       "      <td>NaN</td>\n",
       "      <td>Mango</td>\n",
       "      <td>Zintel</td>\n",
       "    </tr>\n",
       "    <tr>\n",
       "      <th>592</th>\n",
       "      <td>ADF1946</td>\n",
       "      <td>4083</td>\n",
       "      <td>136.10</td>\n",
       "      <td>380.03</td>\n",
       "      <td>83.72</td>\n",
       "      <td>155.00</td>\n",
       "      <td>83,681.92</td>\n",
       "      <td>20</td>\n",
       "      <td>2486</td>\n",
       "      <td>4852</td>\n",
       "      <td>1</td>\n",
       "      <td>3G</td>\n",
       "      <td>3G</td>\n",
       "      <td>PQza</td>\n",
       "      <td>Zintel</td>\n",
       "    </tr>\n",
       "    <tr>\n",
       "      <th>593</th>\n",
       "      <td>ADF1947</td>\n",
       "      <td>652</td>\n",
       "      <td>21.73</td>\n",
       "      <td>456.42</td>\n",
       "      <td>0.60</td>\n",
       "      <td>12.09</td>\n",
       "      <td>10,627,445.77</td>\n",
       "      <td>43</td>\n",
       "      <td>1254</td>\n",
       "      <td>6404</td>\n",
       "      <td>1</td>\n",
       "      <td>3G</td>\n",
       "      <td>3G</td>\n",
       "      <td>Zintel</td>\n",
       "      <td>Zintel</td>\n",
       "    </tr>\n",
       "    <tr>\n",
       "      <th>594</th>\n",
       "      <td>ADF1948</td>\n",
       "      <td>173</td>\n",
       "      <td>5.77</td>\n",
       "      <td>459.23</td>\n",
       "      <td>17.95</td>\n",
       "      <td>0.00</td>\n",
       "      <td>476,843.52</td>\n",
       "      <td>212</td>\n",
       "      <td>0</td>\n",
       "      <td>358</td>\n",
       "      <td>4</td>\n",
       "      <td>3G</td>\n",
       "      <td>3G</td>\n",
       "      <td>Zintel</td>\n",
       "      <td>Zintel</td>\n",
       "    </tr>\n",
       "    <tr>\n",
       "      <th>595</th>\n",
       "      <td>ADF1949</td>\n",
       "      <td>3054</td>\n",
       "      <td>101.80</td>\n",
       "      <td>461.88</td>\n",
       "      <td>2.39</td>\n",
       "      <td>0.00</td>\n",
       "      <td>180,877.69</td>\n",
       "      <td>107</td>\n",
       "      <td>477</td>\n",
       "      <td>1678</td>\n",
       "      <td>1</td>\n",
       "      <td>3G</td>\n",
       "      <td>3G</td>\n",
       "      <td>Uxaa</td>\n",
       "      <td>Zintel</td>\n",
       "    </tr>\n",
       "    <tr>\n",
       "      <th>596</th>\n",
       "      <td>ADF1950</td>\n",
       "      <td>1698</td>\n",
       "      <td>56.60</td>\n",
       "      <td>479.93</td>\n",
       "      <td>4.37</td>\n",
       "      <td>0.00</td>\n",
       "      <td>899,252.95</td>\n",
       "      <td>74</td>\n",
       "      <td>432</td>\n",
       "      <td>2278</td>\n",
       "      <td>2</td>\n",
       "      <td>2G</td>\n",
       "      <td>2G</td>\n",
       "      <td>Uxaa</td>\n",
       "      <td>Zintel</td>\n",
       "    </tr>\n",
       "    <tr>\n",
       "      <th>597</th>\n",
       "      <td>ADF1951</td>\n",
       "      <td>411</td>\n",
       "      <td>13.70</td>\n",
       "      <td>488.53</td>\n",
       "      <td>28.68</td>\n",
       "      <td>0.00</td>\n",
       "      <td>254,002.70</td>\n",
       "      <td>117</td>\n",
       "      <td>0</td>\n",
       "      <td>623</td>\n",
       "      <td>1</td>\n",
       "      <td>3G</td>\n",
       "      <td>3G</td>\n",
       "      <td>ToCall</td>\n",
       "      <td>Zintel</td>\n",
       "    </tr>\n",
       "    <tr>\n",
       "      <th>598</th>\n",
       "      <td>ADF1952</td>\n",
       "      <td>812</td>\n",
       "      <td>27.07</td>\n",
       "      <td>493.28</td>\n",
       "      <td>26.29</td>\n",
       "      <td>0.00</td>\n",
       "      <td>51,854.82</td>\n",
       "      <td>205</td>\n",
       "      <td>0</td>\n",
       "      <td>179</td>\n",
       "      <td>1</td>\n",
       "      <td>3G</td>\n",
       "      <td>2G</td>\n",
       "      <td>PQza</td>\n",
       "      <td>Zintel</td>\n",
       "    </tr>\n",
       "    <tr>\n",
       "      <th>599</th>\n",
       "      <td>ADF1953</td>\n",
       "      <td>549</td>\n",
       "      <td>18.30</td>\n",
       "      <td>498.71</td>\n",
       "      <td>19.50</td>\n",
       "      <td>20.00</td>\n",
       "      <td>921.44</td>\n",
       "      <td>162</td>\n",
       "      <td>8324</td>\n",
       "      <td>17414</td>\n",
       "      <td>1</td>\n",
       "      <td>2G</td>\n",
       "      <td>2G</td>\n",
       "      <td>Zintel</td>\n",
       "      <td>Zintel</td>\n",
       "    </tr>\n",
       "  </tbody>\n",
       "</table>\n",
       "<p>600 rows × 15 columns</p>\n",
       "</div>"
      ],
      "text/plain": [
       "    Customer ID  network_age  Customer tenure in month  \\\n",
       "0       ADF0001         1012                     33.73   \n",
       "1       ADF0002          137                      4.57   \n",
       "2       ADF0003          202                      6.73   \n",
       "3       ADF0004          165                      5.50   \n",
       "4       ADF0005          759                     25.30   \n",
       "5       ADF0006          129                      4.30   \n",
       "6       ADF0007          148                      4.93   \n",
       "7       ADF0008         1144                     38.13   \n",
       "8       ADF0009          137                      4.57   \n",
       "9       ADF0010         1456                     48.53   \n",
       "10      ADF0011          462                     15.40   \n",
       "11      ADF0012         1615                     53.83   \n",
       "12      ADF0013         1422                     47.40   \n",
       "13      ADF0014         1987                     66.23   \n",
       "14      ADF0015         2128                     70.93   \n",
       "15      ADF0016          479                     15.97   \n",
       "16      ADF0017          348                     11.60   \n",
       "17      ADF0018         1884                     62.80   \n",
       "18      ADF0019          642                     21.40   \n",
       "19      ADF0020          150                      5.00   \n",
       "20      ADF0021          206                      6.87   \n",
       "21      ADF0022          174                      5.80   \n",
       "22      ADF0023         2783                     92.77   \n",
       "23      ADF0024         2018                     67.27   \n",
       "24      ADF0025          936                     31.20   \n",
       "25      ADF0026         2150                     71.67   \n",
       "26      ADF0027         1006                     33.53   \n",
       "27      ADF0028          105                      3.50   \n",
       "28      ADF0029          233                      7.77   \n",
       "29      ADF0030         1251                     41.70   \n",
       "..          ...          ...                       ...   \n",
       "570     ADF1873          231                      7.70   \n",
       "571     ADF1874          218                      7.27   \n",
       "572     ADF1875         2874                     95.80   \n",
       "573     ADF1876         2838                     94.60   \n",
       "574     ADF1877           96                      3.20   \n",
       "575     ADF1878         1033                     34.43   \n",
       "576     ADF1930          135                      4.50   \n",
       "577     ADF1931         3696                    123.20   \n",
       "578     ADF1932          214                      7.13   \n",
       "579     ADF1933          978                     32.60   \n",
       "580     ADF1934          358                     11.93   \n",
       "581     ADF1935          873                     29.10   \n",
       "582     ADF1936          113                      3.77   \n",
       "583     ADF1937          439                     14.63   \n",
       "584     ADF1938          111                      3.70   \n",
       "585     ADF1939         1361                     45.37   \n",
       "586     ADF1940          744                     24.80   \n",
       "587     ADF1941         2437                     81.23   \n",
       "588     ADF1942          138                      4.60   \n",
       "589     ADF1943         3187                    106.23   \n",
       "590     ADF1944          568                     18.93   \n",
       "591     ADF1945          572                     19.07   \n",
       "592     ADF1946         4083                    136.10   \n",
       "593     ADF1947          652                     21.73   \n",
       "594     ADF1948          173                      5.77   \n",
       "595     ADF1949         3054                    101.80   \n",
       "596     ADF1950         1698                     56.60   \n",
       "597     ADF1951          411                     13.70   \n",
       "598     ADF1952          812                     27.07   \n",
       "599     ADF1953          549                     18.30   \n",
       "\n",
       "     Total Spend in Months 1 and 2 of 2017  Total SMS Spend  Total Data Spend  \\\n",
       "0                                 1,560.12            14.04            226.30   \n",
       "1                                 1,705.84            73.63              5.00   \n",
       "2                                 1,720.30             4.36            245.00   \n",
       "3                                 1,732.28             0.00             12.50   \n",
       "4                                 1,873.06            69.57            412.50   \n",
       "5                                 1,877.26            46.11            343.75   \n",
       "6                                 2,388.82            17.99              1.25   \n",
       "7                                 2,702.35            47.84             48.75   \n",
       "8                                 2,782.56           179.52            315.00   \n",
       "9                                 2,934.70           200.37            108.75   \n",
       "10                                3,099.46             0.00            178.87   \n",
       "11                                  263.77            32.65             21.25   \n",
       "12                                  292.44            45.16              0.00   \n",
       "13                                  362.81            18.95              0.00   \n",
       "14                                  364.00            43.38             71.25   \n",
       "15                                  390.73            36.40              0.00   \n",
       "16                                  404.60            54.81             17.50   \n",
       "17                                  438.49            38.30             20.00   \n",
       "18                                  453.05            42.95             11.25   \n",
       "19                                  454.64             1.75             83.75   \n",
       "20                                  455.07             0.00            137.50   \n",
       "21                                  457.68            96.93             12.50   \n",
       "22                                  459.90           116.76             26.25   \n",
       "23                                  468.92             7.17              3.75   \n",
       "24                                  493.13            32.29             26.25   \n",
       "25                                  501.04            34.87              0.00   \n",
       "26                                  502.36            16.09              7.50   \n",
       "27                                  508.58             7.73             16.25   \n",
       "28                                  509.25            36.21             15.00   \n",
       "29                                  514.88            45.88              3.75   \n",
       "..                                     ...              ...               ...   \n",
       "570                                 410.99             0.00             88.75   \n",
       "571                                 412.21            11.10              6.25   \n",
       "572                                 534.31             0.00            193.75   \n",
       "573                                 544.10            19.72              6.25   \n",
       "574                                 570.08             1.75              0.00   \n",
       "575                                 596.41            24.84             25.00   \n",
       "576                               1,321.82           308.42            218.75   \n",
       "577                               1,703.37            10.08              0.00   \n",
       "578                                 226.31             8.75             33.75   \n",
       "579                                 259.94            23.26             23.75   \n",
       "580                                 270.47            60.32              1.25   \n",
       "581                                 274.64            37.48             26.25   \n",
       "582                                 286.09             0.00             60.76   \n",
       "583                                 290.82            12.42             30.00   \n",
       "584                                 292.35           164.50              0.00   \n",
       "585                                 299.45            11.36             52.50   \n",
       "586                                 301.70            27.32              0.00   \n",
       "587                                 305.85            13.15             23.75   \n",
       "588                                 311.73            33.55             11.25   \n",
       "589                                 335.21            17.27             45.00   \n",
       "590                                 337.65            43.68              1.25   \n",
       "591                                 371.53             8.92             61.25   \n",
       "592                                 380.03            83.72            155.00   \n",
       "593                                 456.42             0.60             12.09   \n",
       "594                                 459.23            17.95              0.00   \n",
       "595                                 461.88             2.39              0.00   \n",
       "596                                 479.93             4.37              0.00   \n",
       "597                                 488.53            28.68              0.00   \n",
       "598                                 493.28            26.29              0.00   \n",
       "599                                 498.71            19.50             20.00   \n",
       "\n",
       "     Total Data Consumption  Total Unique Calls  Total Onnet spend   \\\n",
       "0              3,126,093.30                  64               14503   \n",
       "1                    162.88                 515               29832   \n",
       "2              3,334,606.97                 163                 228   \n",
       "3                668,292.39                 484                   0   \n",
       "4              6,666,974.78                  64                7616   \n",
       "5              3,387,698.23                 121                   0   \n",
       "6                129,167.68                 830                   0   \n",
       "7                  3,390.06                 431               60102   \n",
       "8              3,632,010.69                 622                   0   \n",
       "9                 40,638.89                 892               16572   \n",
       "10             2,271,782.65                 833                2327   \n",
       "11                   900.16                  38                2352   \n",
       "12               130,874.60                  24                   0   \n",
       "13                 4,635.31                  43                2773   \n",
       "14                 2,743.75                  33                3880   \n",
       "15                16,974.78                  18                   0   \n",
       "16               198,986.25                  44                2292   \n",
       "17                 3,461.68                  57                6657   \n",
       "18                59,029.09                  65                5826   \n",
       "19               842,766.97                   6                   0   \n",
       "20            64,054,568.84                  12                   0   \n",
       "21                   191.57                 114                 708   \n",
       "22             4,065,074.86                  43                 558   \n",
       "23                     7.44                 108                1854   \n",
       "24                 6,733.90                  52                  12   \n",
       "25                 2,568.80                  68                2862   \n",
       "26                   274.99                 131                 750   \n",
       "27                35,765.99                  67                 120   \n",
       "28                   674.51                 145                4392   \n",
       "29                     6.01                 174                 708   \n",
       "..                      ...                 ...                 ...   \n",
       "570           15,544,589.01                  20                   0   \n",
       "571            2,989,776.35                  43                 510   \n",
       "572              143,600.93                  47                4904   \n",
       "573              434,624.27                 187                 502   \n",
       "574                  324.43                 103                 372   \n",
       "575                2,702.46                  78                5880   \n",
       "576               95,368.50                 235               21096   \n",
       "577              363,433.38                 212                 660   \n",
       "578           21,961,600.71                  49                 114   \n",
       "579              905,925.87                  10                   0   \n",
       "580                    4.85                  48                1524   \n",
       "581                7,724.90                  17                7212   \n",
       "582            2,637,011.44                   8                2695   \n",
       "583            6,379,885.93                  53                 216   \n",
       "584                1,017.62                  43                2064   \n",
       "585                2,545.62                  16                 318   \n",
       "586                1,169.43                  31                 260   \n",
       "587                9,570.38                  27                3179   \n",
       "588            2,721,658.58                  15                1632   \n",
       "589              658,241.82                  12                 468   \n",
       "590                    8.37                  41                7380   \n",
       "591              155,118.86                  58                1500   \n",
       "592               83,681.92                  20                2486   \n",
       "593           10,627,445.77                  43                1254   \n",
       "594              476,843.52                 212                   0   \n",
       "595              180,877.69                 107                 477   \n",
       "596              899,252.95                  74                 432   \n",
       "597              254,002.70                 117                   0   \n",
       "598               51,854.82                 205                   0   \n",
       "599                  921.44                 162                8324   \n",
       "\n",
       "     Total Offnet spend  Total Call centre complaint calls  \\\n",
       "0                 12402                                  1   \n",
       "1                 88953                                  9   \n",
       "2                  1495                                  1   \n",
       "3                 71928                                  2   \n",
       "4                 20753                                  2   \n",
       "5                 20944                                  1   \n",
       "6                 93461                                  1   \n",
       "7                131525                                  1   \n",
       "8                 40724                                  2   \n",
       "9                150693                                  1   \n",
       "10                37510                                 12   \n",
       "11                 9658                                  1   \n",
       "12                 8627                                  1   \n",
       "13                14879                                  1   \n",
       "14                12629                                  1   \n",
       "15                13934                                  1   \n",
       "16                 5135                                  1   \n",
       "17                13780                                  1   \n",
       "18                12797                                  1   \n",
       "19                 1005                                  1   \n",
       "20                 2277                                  1   \n",
       "21                22437                                  1   \n",
       "22                12040                                  3   \n",
       "23                29087                                  1   \n",
       "24                20042                                  1   \n",
       "25                18731                                  1   \n",
       "26                30688                                  1   \n",
       "27                17324                                  1   \n",
       "28                31497                                  1   \n",
       "29                38807                                  1   \n",
       "..                  ...                                ...   \n",
       "570                3340                                  1   \n",
       "571                9358                                  1   \n",
       "572               16128                                  3   \n",
       "573                6561                                  5   \n",
       "574                9352                                  8   \n",
       "575               44591                                  1   \n",
       "576               34919                                  1   \n",
       "577                4493                                  2   \n",
       "578                9032                                  1   \n",
       "579                1845                                  1   \n",
       "580                8093                                  1   \n",
       "581                3702                                  5   \n",
       "582                1610                                  1   \n",
       "583               10240                                  1   \n",
       "584                8879                                  1   \n",
       "585                9611                                 14   \n",
       "586                8962                                  1   \n",
       "587                7183                                  1   \n",
       "588                 934                                  1   \n",
       "589                1373                                  1   \n",
       "590                4536                                  1   \n",
       "591               13745                                  1   \n",
       "592                4852                                  1   \n",
       "593                6404                                  1   \n",
       "594                 358                                  4   \n",
       "595                1678                                  1   \n",
       "596                2278                                  2   \n",
       "597                 623                                  1   \n",
       "598                 179                                  1   \n",
       "599               17414                                  1   \n",
       "\n",
       "    Network type subscription in Month 1 Network type subscription in Month 2  \\\n",
       "0                                     3G                                   3G   \n",
       "1                                     3G                                   3G   \n",
       "2                                     3G                                   3G   \n",
       "3                                     3G                                   3G   \n",
       "4                                     3G                                   3G   \n",
       "5                                     3G                                   3G   \n",
       "6                                    NaN                                   3G   \n",
       "7                                     3G                                   3G   \n",
       "8                                     3G                                   3G   \n",
       "9                                  Other                                Other   \n",
       "10                                 Other                                Other   \n",
       "11                                    3G                                   3G   \n",
       "12                                    3G                                   3G   \n",
       "13                                    3G                                   3G   \n",
       "14                                    3G                                   2G   \n",
       "15                                    2G                                   2G   \n",
       "16                                    3G                                   3G   \n",
       "17                                    3G                                   3G   \n",
       "18                                    2G                                   2G   \n",
       "19                                    3G                                   3G   \n",
       "20                                    3G                                   3G   \n",
       "21                                    3G                                   3G   \n",
       "22                                    3G                                   3G   \n",
       "23                                    3G                                   3G   \n",
       "24                                    2G                                   2G   \n",
       "25                                 Other                                Other   \n",
       "26                                    3G                                   3G   \n",
       "27                                   NaN                                   3G   \n",
       "28                                 Other                                Other   \n",
       "29                                    2G                                   2G   \n",
       "..                                   ...                                  ...   \n",
       "570                                   3G                                   3G   \n",
       "571                                   3G                                   3G   \n",
       "572                                   3G                                   3G   \n",
       "573                                Other                                Other   \n",
       "574                                  NaN                                   3G   \n",
       "575                                   3G                                   3G   \n",
       "576                                   3G                                   3G   \n",
       "577                                  NaN                                  NaN   \n",
       "578                                   3G                                   3G   \n",
       "579                                   3G                                   3G   \n",
       "580                                   2G                                   2G   \n",
       "581                                   3G                                   3G   \n",
       "582                                  NaN                                   3G   \n",
       "583                                   2G                                   2G   \n",
       "584                                  NaN                                   3G   \n",
       "585                                   3G                                   3G   \n",
       "586                                   2G                                   2G   \n",
       "587                                   2G                                   2G   \n",
       "588                                Other                                Other   \n",
       "589                                   3G                                   3G   \n",
       "590                                Other                                Other   \n",
       "591                                  NaN                                  NaN   \n",
       "592                                   3G                                   3G   \n",
       "593                                   3G                                   3G   \n",
       "594                                   3G                                   3G   \n",
       "595                                   3G                                   3G   \n",
       "596                                   2G                                   2G   \n",
       "597                                   3G                                   3G   \n",
       "598                                   3G                                   2G   \n",
       "599                                   2G                                   2G   \n",
       "\n",
       "    Most Loved Competitor network in in Month 1  \\\n",
       "0                                      Weematel   \n",
       "1                                        ToCall   \n",
       "2                                        ToCall   \n",
       "3                                          Uxaa   \n",
       "4                                         Mango   \n",
       "5                                          PQza   \n",
       "6                                             0   \n",
       "7                                         Mango   \n",
       "8                                      Weematel   \n",
       "9                                          PQza   \n",
       "10                                         PQza   \n",
       "11                                        Mango   \n",
       "12                                        Mango   \n",
       "13                                        Mango   \n",
       "14                                         PQza   \n",
       "15                                        Mango   \n",
       "16                                        Mango   \n",
       "17                                       Zintel   \n",
       "18                                         PQza   \n",
       "19                                        Mango   \n",
       "20                                     Weematel   \n",
       "21                                         Uxaa   \n",
       "22                                         Uxaa   \n",
       "23                                        Mango   \n",
       "24                                        Mango   \n",
       "25                                         Uxaa   \n",
       "26                                       ToCall   \n",
       "27                                       ToCall   \n",
       "28                                       ToCall   \n",
       "29                                       Zintel   \n",
       "..                                          ...   \n",
       "570                                    Weematel   \n",
       "571                                    Weematel   \n",
       "572                                    Weematel   \n",
       "573                                        Uxaa   \n",
       "574                                      Zintel   \n",
       "575                                    Weematel   \n",
       "576                                      Zintel   \n",
       "577                                      ToCall   \n",
       "578                                           0   \n",
       "579                                      Zintel   \n",
       "580                                        Uxaa   \n",
       "581                                    Weematel   \n",
       "582                                      ToCall   \n",
       "583                                        Uxaa   \n",
       "584                                       Mango   \n",
       "585                                        PQza   \n",
       "586                                        Uxaa   \n",
       "587                                       Mango   \n",
       "588                                      Zintel   \n",
       "589                                      Zintel   \n",
       "590                                        Uxaa   \n",
       "591                                       Mango   \n",
       "592                                        PQza   \n",
       "593                                      Zintel   \n",
       "594                                      Zintel   \n",
       "595                                        Uxaa   \n",
       "596                                        Uxaa   \n",
       "597                                      ToCall   \n",
       "598                                        PQza   \n",
       "599                                      Zintel   \n",
       "\n",
       "    Most Loved Competitor network in in Month 2  \n",
       "0                                         Mango  \n",
       "1                                         Mango  \n",
       "2                                         Mango  \n",
       "3                                         Mango  \n",
       "4                                         Mango  \n",
       "5                                         Mango  \n",
       "6                                         Mango  \n",
       "7                                         Mango  \n",
       "8                                         Mango  \n",
       "9                                         Mango  \n",
       "10                                        Mango  \n",
       "11                                        Mango  \n",
       "12                                        Mango  \n",
       "13                                        Mango  \n",
       "14                                        Mango  \n",
       "15                                        Mango  \n",
       "16                                        Mango  \n",
       "17                                        Mango  \n",
       "18                                        Mango  \n",
       "19                                        Mango  \n",
       "20                                        Mango  \n",
       "21                                        Mango  \n",
       "22                                        Mango  \n",
       "23                                        Mango  \n",
       "24                                        Mango  \n",
       "25                                        Mango  \n",
       "26                                        Mango  \n",
       "27                                        Mango  \n",
       "28                                        Mango  \n",
       "29                                        Mango  \n",
       "..                                          ...  \n",
       "570                                    Weematel  \n",
       "571                                    Weematel  \n",
       "572                                    Weematel  \n",
       "573                                    Weematel  \n",
       "574                                    Weematel  \n",
       "575                                    Weematel  \n",
       "576                                      Zintel  \n",
       "577                                      Zintel  \n",
       "578                                      Zintel  \n",
       "579                                      Zintel  \n",
       "580                                      Zintel  \n",
       "581                                      Zintel  \n",
       "582                                      Zintel  \n",
       "583                                      Zintel  \n",
       "584                                      Zintel  \n",
       "585                                      Zintel  \n",
       "586                                      Zintel  \n",
       "587                                      Zintel  \n",
       "588                                      Zintel  \n",
       "589                                      Zintel  \n",
       "590                                      Zintel  \n",
       "591                                      Zintel  \n",
       "592                                      Zintel  \n",
       "593                                      Zintel  \n",
       "594                                      Zintel  \n",
       "595                                      Zintel  \n",
       "596                                      Zintel  \n",
       "597                                      Zintel  \n",
       "598                                      Zintel  \n",
       "599                                      Zintel  \n",
       "\n",
       "[600 rows x 15 columns]"
      ]
     },
     "execution_count": 69,
     "metadata": {},
     "output_type": "execute_result"
    }
   ],
   "source": [
    "test\n"
   ]
  },
  {
   "cell_type": "code",
   "execution_count": 70,
   "metadata": {},
   "outputs": [
    {
     "data": {
      "text/plain": [
       "\"'onehotencoder = OneHotEncoder(categorical_features=[1])\\nX_train = onehotencoder.fit_transform(X_train).toarray()\""
      ]
     },
     "execution_count": 70,
     "metadata": {},
     "output_type": "execute_result"
    }
   ],
   "source": [
    "''''onehotencoder = OneHotEncoder(categorical_features=[1])\n",
    "X_train = onehotencoder.fit_transform(X_train).toarray()'''"
   ]
  },
  {
   "cell_type": "code",
   "execution_count": 71,
   "metadata": {
    "collapsed": true
   },
   "outputs": [],
   "source": [
    "#X_train = X_train[:, 1:]"
   ]
  },
  {
   "cell_type": "code",
   "execution_count": 72,
   "metadata": {},
   "outputs": [
    {
     "data": {
      "text/plain": [
       "Customer ID                                    False\n",
       "network_age                                    False\n",
       "Customer tenure in month                       False\n",
       "Total Spend in Months 1 and 2 of 2017          False\n",
       "Total SMS Spend                                False\n",
       "Total Data Spend                               False\n",
       "Total Data Consumption                         False\n",
       "Total Unique Calls                             False\n",
       "Total Onnet spend                              False\n",
       "Total Offnet spend                             False\n",
       "Total Call centre complaint calls              False\n",
       "Network type subscription in Month 1            True\n",
       "Network type subscription in Month 2            True\n",
       "Most Loved Competitor network in in Month 1    False\n",
       "Most Loved Competitor network in in Month 2    False\n",
       "dtype: bool"
      ]
     },
     "execution_count": 72,
     "metadata": {},
     "output_type": "execute_result"
    }
   ],
   "source": [
    "test.isnull().any()"
   ]
  },
  {
   "cell_type": "code",
   "execution_count": 73,
   "metadata": {
    "collapsed": true
   },
   "outputs": [],
   "source": [
    "test.columns = ['ID', 'Age_Days', 'Age_Month', 'Expenditure', 'Expenditure_SMS', 'Expenditure_Data', 'Data_Consumed', 'Unique_Calls',\n",
    "                 'Onnet_Spend', 'Offnet_Spend', 'Call_Centre', 'Network_Type1', 'Network_Type2', 'Network_Love1', 'Network_Love2']"
   ]
  },
  {
   "cell_type": "code",
   "execution_count": 74,
   "metadata": {
    "collapsed": true
   },
   "outputs": [],
   "source": [
    "test = test.drop('ID', 1)\n",
    "test = test.drop('Age_Days', 1)"
   ]
  },
  {
   "cell_type": "code",
   "execution_count": 75,
   "metadata": {},
   "outputs": [
    {
     "data": {
      "text/plain": [
       "False    530\n",
       "True      70\n",
       "Name: Network_Type1, dtype: int64"
      ]
     },
     "execution_count": 75,
     "metadata": {},
     "output_type": "execute_result"
    }
   ],
   "source": [
    "test['Network_Type1'].isnull().value_counts()"
   ]
  },
  {
   "cell_type": "code",
   "execution_count": 76,
   "metadata": {},
   "outputs": [
    {
     "data": {
      "text/plain": [
       "count     530\n",
       "unique      3\n",
       "top        3G\n",
       "freq      338\n",
       "Name: Network_Type1, dtype: object"
      ]
     },
     "execution_count": 76,
     "metadata": {},
     "output_type": "execute_result"
    }
   ],
   "source": [
    "test['Network_Type1'].describe(\n",
    ")"
   ]
  },
  {
   "cell_type": "code",
   "execution_count": 77,
   "metadata": {},
   "outputs": [
    {
     "data": {
      "text/plain": [
       "\"test.loc[(test.Network_Type1.isnull()), 'Network_Type1'] = '3G'\\ntest.loc[(test.Network_Type2.isnull()), 'Network_Type2'] = '3G\""
      ]
     },
     "execution_count": 77,
     "metadata": {},
     "output_type": "execute_result"
    }
   ],
   "source": [
    "'''test.loc[(test.Network_Type1.isnull()), 'Network_Type1'] = '3G'\n",
    "test.loc[(test.Network_Type2.isnull()), 'Network_Type2'] = '3G'''"
   ]
  },
  {
   "cell_type": "code",
   "execution_count": 78,
   "metadata": {},
   "outputs": [
    {
     "data": {
      "text/plain": [
       "count     538\n",
       "unique      3\n",
       "top        3G\n",
       "freq      351\n",
       "Name: Network_Type2, dtype: object"
      ]
     },
     "execution_count": 78,
     "metadata": {},
     "output_type": "execute_result"
    }
   ],
   "source": [
    "test['Network_Type2'].describe()"
   ]
  },
  {
   "cell_type": "code",
   "execution_count": 79,
   "metadata": {
    "collapsed": true
   },
   "outputs": [],
   "source": [
    "#feature engineering for network type in test\n",
    "test.loc[(test.Network_Type1)== '3G','Network_Type1'] = 0\n",
    "test.loc[(test.Network_Type1)== '2G','Network_Type1'] = 1\n",
    "test.loc[(test.Network_Type1)== 'Other','Network_Type1'] = 2"
   ]
  },
  {
   "cell_type": "code",
   "execution_count": 80,
   "metadata": {
    "collapsed": true
   },
   "outputs": [],
   "source": [
    "#feature engineering for network type in test\n",
    "test.loc[(test.Network_Type2)== '3G','Network_Type2'] = 0\n",
    "test.loc[(test.Network_Type2)== '2G','Network_Type2'] = 1\n",
    "test.loc[(test.Network_Type2)== 'Other','Network_Type2'] = 2"
   ]
  },
  {
   "cell_type": "code",
   "execution_count": 81,
   "metadata": {
    "collapsed": true
   },
   "outputs": [],
   "source": [
    "#feature engineering for network loved month 1\n",
    "test.loc[(test.Network_Love1)== 'PQza','Network_Love1'] = 1\n",
    "test.loc[(test.Network_Love1)== 'Uxaa','Network_Love1'] = 2\n",
    "test.loc[(test.Network_Love1)== 'Mango','Network_Love1'] = 3\n",
    "test.loc[(test.Network_Love1)== 'ToCall','Network_Love1'] = 4\n",
    "test.loc[(test.Network_Love1)== 'Zintel','Network_Love1'] = 5\n",
    "test.loc[(test.Network_Love1)== 'Weematel','Network_Love1'] = 6"
   ]
  },
  {
   "cell_type": "code",
   "execution_count": 82,
   "metadata": {
    "collapsed": true
   },
   "outputs": [],
   "source": [
    "#feature engineering for network loved month 2\n",
    "test.loc[(test.Network_Love2)== 'PQza','Network_Love2'] = 1\n",
    "test.loc[(test.Network_Love2)== 'Uxaa','Network_Love2'] = 2\n",
    "test.loc[(test.Network_Love2)== 'Mango','Network_Love2'] = 3\n",
    "test.loc[(test.Network_Love2)== 'ToCall','Network_Love2'] = 4\n",
    "test.loc[(test.Network_Love2)== 'Zintel','Network_Love2'] = 5\n",
    "test.loc[(test.Network_Love2)== 'Weematel','Network_Love2'] = 6"
   ]
  },
  {
   "cell_type": "code",
   "execution_count": 83,
   "metadata": {
    "collapsed": true
   },
   "outputs": [],
   "source": [
    "testputter = Imputer(missing_values = 'NaN', strategy = 'mean', axis = 0)\n",
    "testputter= testputter.fit(test)\n",
    "test = testputter.transform(test)"
   ]
  },
  {
   "cell_type": "code",
   "execution_count": 84,
   "metadata": {
    "collapsed": true
   },
   "outputs": [],
   "source": [
    "# test = onehotencoder.fit_transform(test).toarray()\n",
    "# test = test[:, 1:]"
   ]
  },
  {
   "cell_type": "code",
   "execution_count": 85,
   "metadata": {},
   "outputs": [
    {
     "name": "stderr",
     "output_type": "stream",
     "text": [
      "C:\\Users\\USER\\Anaconda3\\lib\\site-packages\\sklearn\\preprocessing\\data.py:586: DeprecationWarning: Passing 1d arrays as data is deprecated in 0.17 and will raise ValueError in 0.19. Reshape your data either using X.reshape(-1, 1) if your data has a single feature or X.reshape(1, -1) if it contains a single sample.\n",
      "  warnings.warn(DEPRECATION_MSG_1D, DeprecationWarning)\n",
      "C:\\Users\\USER\\Anaconda3\\lib\\site-packages\\sklearn\\preprocessing\\data.py:649: DeprecationWarning: Passing 1d arrays as data is deprecated in 0.17 and will raise ValueError in 0.19. Reshape your data either using X.reshape(-1, 1) if your data has a single feature or X.reshape(1, -1) if it contains a single sample.\n",
      "  warnings.warn(DEPRECATION_MSG_1D, DeprecationWarning)\n"
     ]
    }
   ],
   "source": [
    "# Feature Scaling\n",
    "from sklearn.preprocessing import StandardScaler\n",
    "sc_X = StandardScaler()\n",
    "X_train = sc_X.fit_transform(X_train)\n",
    "test = sc_X.transform(test)\n",
    "sc_y = StandardScaler()\n",
    "y_train = sc_y.fit_transform(y_train)"
   ]
  },
  {
   "cell_type": "code",
   "execution_count": 86,
   "metadata": {},
   "outputs": [
    {
     "data": {
      "text/plain": [
       "count     1225\n",
       "unique       3\n",
       "top          0\n",
       "freq       636\n",
       "Name: Network_Type1, dtype: int64"
      ]
     },
     "execution_count": 86,
     "metadata": {},
     "output_type": "execute_result"
    }
   ],
   "source": [
    "train['Network_Type1'].describe()"
   ]
  },
  {
   "cell_type": "code",
   "execution_count": 87,
   "metadata": {
    "collapsed": true
   },
   "outputs": [],
   "source": [
    "from sklearn.preprocessing import LabelEncoder, OneHotEncoder\n",
    "labelencoder_X = LabelEncoder()\n",
    "X_train[:, 9] = labelencoder_X.fit_transform(X_train[:, 9])\n",
    "onehotencoder = OneHotEncoder(categorical_features = [9])\n",
    "X = onehotencoder.fit_transform(X_train).toarray()"
   ]
  },
  {
   "cell_type": "code",
   "execution_count": 88,
   "metadata": {
    "collapsed": true
   },
   "outputs": [],
   "source": [
    "# from sklearn.preprocessing import LabelEncoder, OneHotEncoder\n",
    "# labelencoder_X = LabelEncoder()\n",
    "# X_train[:,] = labelencoder_X.fit_transform(X_train[:, 9])\n",
    "# onehotencoder = OneHotEncoder(categorical_features = [9])\n",
    "# X = onehotencoder.fit_transform(X_train).toarray()"
   ]
  },
  {
   "cell_type": "code",
   "execution_count": 97,
   "metadata": {},
   "outputs": [],
   "source": [
    "# import numpy.statsmodel.formula.api as sm\n",
    "# X_train = np.append((1400, 1).astype(int), values = train)"
   ]
  },
  {
   "cell_type": "code",
   "execution_count": null,
   "metadata": {},
   "outputs": [],
   "source": []
  },
  {
   "cell_type": "code",
   "execution_count": 98,
   "metadata": {
    "collapsed": true
   },
   "outputs": [],
   "source": [
    "from sklearn import model_selection\n",
    "from sklearn.metrics import classification_report\n",
    "from sklearn.ensemble import RandomForestClassifier\n",
    "from sklearn.metrics import confusion_matrix\n",
    "from sklearn.metrics import accuracy_score\n",
    "from sklearn.linear_model import LogisticRegression\n",
    "from sklearn.tree import DecisionTreeClassifier\n",
    "from sklearn.neighbors import KNeighborsClassifier\n",
    "from sklearn.discriminant_analysis import LinearDiscriminantAnalysis\n",
    "from sklearn.naive_bayes import GaussianNB\n",
    "from sklearn.svm import SVC\n",
    "from sklearn.ensemble import GradientBoostingClassifier\n",
    "from sklearn.tree import ExtraTreeClassifier"
   ]
  },
  {
   "cell_type": "code",
   "execution_count": 99,
   "metadata": {
    "collapsed": true
   },
   "outputs": [],
   "source": [
    "# Spot Check Algorithms\n",
    "models = []\n",
    "models.append(('LR', LogisticRegression()))\n",
    "models.append(('KNN', KNeighborsClassifier()))\n",
    "models.append(('LDR', LinearDiscriminantAnalysis()))\n",
    "models.append(('CART', DecisionTreeClassifier()))\n",
    "models.append(('ETC', ExtraTreeClassifier()))\n",
    "models.append(('GBC', GradientBoostingClassifier()))\n",
    "models.append(('RFC', RandomForestClassifier()))\n",
    "models.append(('NB', GaussianNB()))\n",
    "models.append(('SVM', SVC()))"
   ]
  },
  {
   "cell_type": "code",
   "execution_count": 100,
   "metadata": {},
   "outputs": [
    {
     "name": "stdout",
     "output_type": "stream",
     "text": [
      "LR: 0.578571 (0.079668)\n",
      "KNN: 0.508571 (0.114277)\n",
      "LDR: 0.567143 (0.077341)\n",
      "CART: 0.663571 (0.202168)\n",
      "ETC: 0.505000 (0.108093)\n",
      "GBC: 0.732143 (0.146533)\n",
      "RFC: 0.700000 (0.124499)\n",
      "NB: 0.522143 (0.147408)\n",
      "SVM: 0.589286 (0.124796)\n"
     ]
    }
   ],
   "source": [
    "# evaluate each model in turn\n",
    "results = []\n",
    "names = []\n",
    "for name, model in models:\n",
    " kfold = model_selection.KFold(n_splits=10, random_state=7)\n",
    " cv_results = model_selection.cross_val_score(model, X_train, y_train, cv=kfold, scoring='accuracy')\n",
    " results.append(cv_results)\n",
    " names.append(name)\n",
    " msg = \"%s: %f (%f)\" % (name, cv_results.mean(), cv_results.std())\n",
    " print(msg)"
   ]
  },
  {
   "cell_type": "code",
   "execution_count": 101,
   "metadata": {
    "collapsed": true
   },
   "outputs": [],
   "source": [
    "# for column in test.columns:\n",
    "#     test[column] = test[column].apply(lambda a: int(a))"
   ]
  },
  {
   "cell_type": "code",
   "execution_count": 102,
   "metadata": {},
   "outputs": [
    {
     "data": {
      "text/plain": [
       "array([[-0.34387853,  0.60295447, -0.26870501, ..., -0.87605696,\n",
       "         1.84355141,  0.70723013],\n",
       "       [-1.02985697,  0.71941078,  0.7103736 , ..., -0.87605696,\n",
       "         0.66908491,  0.70723013],\n",
       "       [-0.97889857,  0.73097001, -0.42774983, ..., -0.87605696,\n",
       "         0.66908491,  0.70723013],\n",
       "       ..., \n",
       "       [-0.81504772, -0.25342972, -0.02816614, ..., -0.87605696,\n",
       "         0.66908491,  2.44915787],\n",
       "       [-0.5006736 , -0.24963078, -0.06743444, ...,  0.41238278,\n",
       "        -1.09261483,  2.44915787],\n",
       "       [-0.70685912, -0.24528776, -0.17899584, ...,  0.41238278,\n",
       "         1.25631816,  2.44915787]])"
      ]
     },
     "execution_count": 102,
     "metadata": {},
     "output_type": "execute_result"
    }
   ],
   "source": [
    "test"
   ]
  },
  {
   "cell_type": "code",
   "execution_count": 143,
   "metadata": {},
   "outputs": [
    {
     "data": {
      "text/plain": [
       "GradientBoostingClassifier(criterion='friedman_mse', init=None,\n",
       "              learning_rate=0.1, loss='deviance', max_depth=3,\n",
       "              max_features=None, max_leaf_nodes=None,\n",
       "              min_impurity_split=1e-07, min_samples_leaf=1,\n",
       "              min_samples_split=2, min_weight_fraction_leaf=0.0,\n",
       "              n_estimators=100, presort='auto', random_state=None,\n",
       "              subsample=1.0, verbose=0, warm_start=False)"
      ]
     },
     "execution_count": 143,
     "metadata": {},
     "output_type": "execute_result"
    }
   ],
   "source": [
    "#GBF\n",
    "clf= GradientBoostingClassifier(n_estimators=100)\n",
    "clf.fit(X_train, y_train)"
   ]
  },
  {
   "cell_type": "code",
   "execution_count": 144,
   "metadata": {
    "collapsed": true
   },
   "outputs": [],
   "source": [
    "testputter = Imputer(missing_values = 'NaN', strategy = 'mean', axis = 0)\n",
    "testputter= testputter.fit(test)\n",
    "test = testputter.transform(test)"
   ]
  },
  {
   "cell_type": "code",
   "execution_count": 145,
   "metadata": {
    "collapsed": true
   },
   "outputs": [],
   "source": [
    "prediction= clf.predict(test)"
   ]
  },
  {
   "cell_type": "code",
   "execution_count": 146,
   "metadata": {},
   "outputs": [
    {
     "name": "stdout",
     "output_type": "stream",
     "text": [
      "Accuracy:  0.909285714286\n"
     ]
    }
   ],
   "source": [
    "score = clf.score(X_train, y_train)\n",
    "print(\"Accuracy: \", score)"
   ]
  },
  {
   "cell_type": "code",
   "execution_count": 147,
   "metadata": {
    "collapsed": true
   },
   "outputs": [],
   "source": [
    "predict_frame = pd.DataFrame(prediction, columns=['Churn_Status']) "
   ]
  },
  {
   "cell_type": "code",
   "execution_count": 149,
   "metadata": {
    "collapsed": true
   },
   "outputs": [],
   "source": [
    "result = pd.concat([test_id, predict_frame[['Churn_Status']]], axis=1)\n"
   ]
  },
  {
   "cell_type": "code",
   "execution_count": 150,
   "metadata": {
    "collapsed": true
   },
   "outputs": [],
   "source": [
    "result.columns = ['Customer ID', 'Churn Status']"
   ]
  },
  {
   "cell_type": "code",
   "execution_count": 153,
   "metadata": {
    "collapsed": true
   },
   "outputs": [],
   "source": [
    "result.loc[result['Churn Status']==-1, 'Churn Status']= 0"
   ]
  },
  {
   "cell_type": "code",
   "execution_count": 157,
   "metadata": {
    "collapsed": true
   },
   "outputs": [],
   "source": [
    "result['Churn Status'] = result['Churn Status'].apply(lambda x: int(x))"
   ]
  },
  {
   "cell_type": "code",
   "execution_count": null,
   "metadata": {
    "collapsed": true
   },
   "outputs": [],
   "source": []
  },
  {
   "cell_type": "code",
   "execution_count": 158,
   "metadata": {
    "collapsed": true
   },
   "outputs": [],
   "source": [
    "pd.options.display.float_format = '{:,.0f}'.format"
   ]
  },
  {
   "cell_type": "code",
   "execution_count": 132,
   "metadata": {},
   "outputs": [
    {
     "data": {
      "text/html": [
       "<div>\n",
       "<style>\n",
       "    .dataframe thead tr:only-child th {\n",
       "        text-align: right;\n",
       "    }\n",
       "\n",
       "    .dataframe thead th {\n",
       "        text-align: left;\n",
       "    }\n",
       "\n",
       "    .dataframe tbody tr th {\n",
       "        vertical-align: top;\n",
       "    }\n",
       "</style>\n",
       "<table border=\"1\" class=\"dataframe\">\n",
       "  <thead>\n",
       "    <tr style=\"text-align: right;\">\n",
       "      <th></th>\n",
       "      <th>Customer ID</th>\n",
       "      <th>Churn Status</th>\n",
       "    </tr>\n",
       "  </thead>\n",
       "  <tbody>\n",
       "    <tr>\n",
       "      <th>292</th>\n",
       "      <td>ADF0766</td>\n",
       "      <td>1</td>\n",
       "    </tr>\n",
       "  </tbody>\n",
       "</table>\n",
       "</div>"
      ],
      "text/plain": [
       "    Customer ID  Churn Status\n",
       "292     ADF0766             1"
      ]
     },
     "execution_count": 132,
     "metadata": {},
     "output_type": "execute_result"
    }
   ],
   "source": [
    "result.sample()"
   ]
  },
  {
   "cell_type": "code",
   "execution_count": 133,
   "metadata": {},
   "outputs": [
    {
     "data": {
      "text/html": [
       "<div>\n",
       "<style>\n",
       "    .dataframe thead tr:only-child th {\n",
       "        text-align: right;\n",
       "    }\n",
       "\n",
       "    .dataframe thead th {\n",
       "        text-align: left;\n",
       "    }\n",
       "\n",
       "    .dataframe tbody tr th {\n",
       "        vertical-align: top;\n",
       "    }\n",
       "</style>\n",
       "<table border=\"1\" class=\"dataframe\">\n",
       "  <thead>\n",
       "    <tr style=\"text-align: right;\">\n",
       "      <th></th>\n",
       "      <th>Customer ID</th>\n",
       "      <th>Churn Status</th>\n",
       "    </tr>\n",
       "  </thead>\n",
       "  <tbody>\n",
       "    <tr>\n",
       "      <th>589</th>\n",
       "      <td>ADF1943</td>\n",
       "      <td>0</td>\n",
       "    </tr>\n",
       "  </tbody>\n",
       "</table>\n",
       "</div>"
      ],
      "text/plain": [
       "    Customer ID  Churn Status\n",
       "589     ADF1943             0"
      ]
     },
     "execution_count": 133,
     "metadata": {},
     "output_type": "execute_result"
    }
   ],
   "source": [
    "sample.sample()"
   ]
  },
  {
   "cell_type": "code",
   "execution_count": 159,
   "metadata": {
    "collapsed": true
   },
   "outputs": [],
   "source": [
    "result.to_csv('resultGBF.csv', index=False)"
   ]
  },
  {
   "cell_type": "code",
   "execution_count": 114,
   "metadata": {},
   "outputs": [
    {
     "data": {
      "text/plain": [
       "-1    303\n",
       "1     297\n",
       "Name: Churn Status, dtype: int64"
      ]
     },
     "execution_count": 114,
     "metadata": {},
     "output_type": "execute_result"
    }
   ],
   "source": []
  },
  {
   "cell_type": "code",
   "execution_count": 131,
   "metadata": {},
   "outputs": [
    {
     "data": {
      "text/html": [
       "<div>\n",
       "<style>\n",
       "    .dataframe thead tr:only-child th {\n",
       "        text-align: right;\n",
       "    }\n",
       "\n",
       "    .dataframe thead th {\n",
       "        text-align: left;\n",
       "    }\n",
       "\n",
       "    .dataframe tbody tr th {\n",
       "        vertical-align: top;\n",
       "    }\n",
       "</style>\n",
       "<table border=\"1\" class=\"dataframe\">\n",
       "  <thead>\n",
       "    <tr style=\"text-align: right;\">\n",
       "      <th></th>\n",
       "      <th>Customer ID</th>\n",
       "      <th>Churn Status</th>\n",
       "    </tr>\n",
       "  </thead>\n",
       "  <tbody>\n",
       "    <tr>\n",
       "      <th>284</th>\n",
       "      <td>ADF0758</td>\n",
       "      <td>1</td>\n",
       "    </tr>\n",
       "  </tbody>\n",
       "</table>\n",
       "</div>"
      ],
      "text/plain": [
       "    Customer ID  Churn Status\n",
       "284     ADF0758             1"
      ]
     },
     "execution_count": 131,
     "metadata": {},
     "output_type": "execute_result"
    }
   ],
   "source": [
    "result.sample()"
   ]
  },
  {
   "cell_type": "code",
   "execution_count": 116,
   "metadata": {
    "collapsed": true
   },
   "outputs": [],
   "source": [
    "#import pandas as pd"
   ]
  },
  {
   "cell_type": "code",
   "execution_count": 117,
   "metadata": {},
   "outputs": [],
   "source": [
    "#result_new =pd.read_csv('resultFEB20.csv')"
   ]
  },
  {
   "cell_type": "code",
   "execution_count": 118,
   "metadata": {},
   "outputs": [],
   "source": [
    "#result_new.info()"
   ]
  },
  {
   "cell_type": "code",
   "execution_count": 119,
   "metadata": {},
   "outputs": [],
   "source": [
    "#result_new['Churn Status'].value_counts()"
   ]
  },
  {
   "cell_type": "code",
   "execution_count": 120,
   "metadata": {},
   "outputs": [],
   "source": [
    "#result_new.loc[result_new['Churn Status']==-1, 'Churn Status']= 0"
   ]
  },
  {
   "cell_type": "code",
   "execution_count": 121,
   "metadata": {
    "collapsed": true
   },
   "outputs": [],
   "source": [
    "#result_new['Churn Status'] = result_new['Churn Status'].apply(lambda x: int(x))"
   ]
  },
  {
   "cell_type": "code",
   "execution_count": 122,
   "metadata": {},
   "outputs": [],
   "source": [
    "#result_new.head()"
   ]
  },
  {
   "cell_type": "code",
   "execution_count": 123,
   "metadata": {
    "collapsed": true
   },
   "outputs": [],
   "source": [
    "#result_new.to_csv('resultFEB20_1.csv', index=False)"
   ]
  },
  {
   "cell_type": "code",
   "execution_count": 126,
   "metadata": {},
   "outputs": [
    {
     "data": {
      "text/plain": [
       "KNeighborsClassifier(algorithm='auto', leaf_size=30, metric='minkowski',\n",
       "           metric_params=None, n_jobs=1, n_neighbors=5, p=2,\n",
       "           weights='uniform')"
      ]
     },
     "execution_count": 126,
     "metadata": {},
     "output_type": "execute_result"
    }
   ],
   "source": [
    "KNN= KNeighborsClassifier(n_neighbors=5)\n",
    "KNN.fit(X_train, y_train)"
   ]
  },
  {
   "cell_type": "code",
   "execution_count": 127,
   "metadata": {
    "collapsed": true
   },
   "outputs": [],
   "source": [
    "prediction_KNN= KNN.predict(test)\n"
   ]
  },
  {
   "cell_type": "code",
   "execution_count": 128,
   "metadata": {},
   "outputs": [
    {
     "name": "stdout",
     "output_type": "stream",
     "text": [
      "Accuracy:  0.995\n"
     ]
    }
   ],
   "source": [
    "score_KNN = KNN.score(X_train, y_train)\n",
    "print(\"Accuracy: \", score)"
   ]
  },
  {
   "cell_type": "code",
   "execution_count": 130,
   "metadata": {},
   "outputs": [
    {
     "data": {
      "text/plain": [
       "array([-1.,  1.,  1.,  1., -1., -1.,  1.,  1.,  1.,  1., -1.,  1.,  1.,\n",
       "        1., -1.,  1.,  1., -1.,  1., -1., -1.,  1., -1.,  1.,  1.,  1.,\n",
       "        1.,  1.,  1.,  1., -1., -1.,  1., -1.,  1.,  1.,  1.,  1., -1.,\n",
       "        1.,  1., -1., -1., -1., -1.,  1., -1.,  1.,  1.,  1.,  1.,  1.,\n",
       "        1.,  1., -1., -1., -1.,  1.,  1., -1., -1.,  1.,  1.,  1.,  1.,\n",
       "        1., -1.,  1.,  1.,  1.,  1.,  1.,  1.,  1., -1., -1.,  1.,  1.,\n",
       "       -1., -1.,  1.,  1., -1., -1., -1., -1., -1.,  1.,  1., -1.,  1.,\n",
       "       -1.,  1.,  1.,  1., -1., -1.,  1., -1.,  1.,  1.,  1.,  1.,  1.,\n",
       "       -1., -1.,  1., -1.,  1.,  1., -1., -1.,  1.,  1., -1.,  1.,  1.,\n",
       "        1.,  1.,  1.,  1.,  1.,  1., -1., -1., -1.,  1.,  1.,  1.,  1.,\n",
       "        1.,  1.,  1.,  1., -1., -1.,  1.,  1.,  1., -1.,  1.,  1., -1.,\n",
       "        1., -1., -1.,  1.,  1.,  1.,  1., -1., -1.,  1.,  1., -1.,  1.,\n",
       "        1.,  1., -1.,  1.,  1.,  1.,  1.,  1.,  1.,  1.,  1.,  1.,  1.,\n",
       "        1., -1., -1., -1.,  1.,  1., -1., -1., -1.,  1., -1., -1., -1.,\n",
       "       -1., -1., -1., -1., -1., -1.,  1.,  1., -1., -1., -1., -1., -1.,\n",
       "       -1., -1., -1., -1., -1., -1., -1., -1.,  1., -1., -1., -1., -1.,\n",
       "       -1., -1., -1., -1.,  1., -1., -1.,  1., -1.,  1., -1., -1., -1.,\n",
       "       -1.,  1., -1., -1., -1., -1.,  1.,  1., -1., -1., -1., -1., -1.,\n",
       "       -1., -1., -1., -1., -1., -1., -1., -1., -1., -1., -1., -1., -1.,\n",
       "        1., -1.,  1., -1.,  1., -1., -1., -1., -1., -1., -1., -1., -1.,\n",
       "       -1.,  1., -1.,  1., -1., -1., -1., -1., -1., -1.,  1., -1., -1.,\n",
       "       -1.,  1., -1.,  1., -1.,  1., -1., -1., -1.,  1., -1., -1.,  1.,\n",
       "       -1., -1., -1., -1., -1., -1., -1., -1., -1.,  1., -1.,  1., -1.,\n",
       "        1.,  1.,  1.,  1., -1.,  1., -1., -1., -1., -1., -1.,  1.,  1.,\n",
       "        1., -1., -1., -1., -1., -1.,  1., -1., -1., -1.,  1., -1., -1.,\n",
       "       -1.,  1., -1., -1., -1., -1.,  1., -1., -1.,  1., -1., -1.,  1.,\n",
       "       -1.,  1., -1.,  1., -1., -1., -1., -1.,  1., -1., -1.,  1., -1.,\n",
       "        1., -1.,  1., -1., -1.,  1., -1., -1.,  1.,  1.,  1., -1., -1.,\n",
       "        1., -1.,  1.,  1.,  1., -1., -1.,  1., -1., -1., -1.,  1., -1.,\n",
       "        1., -1.,  1., -1., -1.,  1., -1.,  1.,  1.,  1., -1., -1., -1.,\n",
       "       -1.,  1., -1.,  1.,  1., -1., -1.,  1., -1.,  1.,  1.,  1.,  1.,\n",
       "        1.,  1., -1.,  1.,  1., -1.,  1.,  1.,  1.,  1.,  1., -1., -1.,\n",
       "        1.,  1.,  1.,  1.,  1., -1., -1., -1., -1., -1., -1.,  1.,  1.,\n",
       "        1., -1., -1.,  1.,  1., -1., -1.,  1., -1., -1., -1., -1.,  1.,\n",
       "        1., -1., -1.,  1.,  1.,  1.,  1., -1., -1., -1., -1.,  1., -1.,\n",
       "       -1.,  1.,  1., -1.,  1., -1., -1.,  1., -1.,  1., -1., -1.,  1.,\n",
       "       -1., -1., -1., -1.,  1.,  1.,  1.,  1., -1., -1., -1., -1., -1.,\n",
       "        1., -1., -1.,  1.,  1., -1., -1., -1.,  1., -1., -1., -1., -1.,\n",
       "       -1., -1.,  1., -1., -1., -1., -1.,  1., -1., -1., -1., -1., -1.,\n",
       "       -1., -1., -1., -1., -1.,  1.,  1.,  1., -1., -1.,  1., -1., -1.,\n",
       "        1.,  1., -1.,  1., -1., -1.,  1.,  1.,  1., -1., -1., -1., -1.,\n",
       "       -1., -1.,  1., -1., -1., -1., -1., -1., -1., -1., -1., -1.,  1.,\n",
       "       -1., -1.,  1.,  1., -1.,  1., -1.,  1.,  1.,  1., -1., -1.,  1.,\n",
       "        1.,  1.,  1., -1.,  1.,  1.,  1.,  1.,  1.,  1.,  1.,  1.,  1.,\n",
       "        1., -1.,  1.,  1.,  1.,  1., -1.,  1.,  1.,  1.,  1.,  1.,  1.,\n",
       "       -1.,  1.,  1.,  1.,  1.,  1.,  1.,  1.,  1.,  1., -1.,  1.,  1.,\n",
       "        1.,  1.])"
      ]
     },
     "execution_count": 130,
     "metadata": {},
     "output_type": "execute_result"
    }
   ],
   "source": [
    "prediction_KNN"
   ]
  },
  {
   "cell_type": "code",
   "execution_count": 134,
   "metadata": {
    "collapsed": true
   },
   "outputs": [],
   "source": [
    "predict_KNN_frame = pd.DataFrame(prediction_KNN, columns=['Churn_Status']) "
   ]
  },
  {
   "cell_type": "code",
   "execution_count": 135,
   "metadata": {
    "collapsed": true
   },
   "outputs": [],
   "source": [
    "\n",
    "result_KNN= pd.concat([test_id, predict_KNN_frame[['Churn_Status']]], axis=1)"
   ]
  },
  {
   "cell_type": "code",
   "execution_count": 136,
   "metadata": {
    "collapsed": true
   },
   "outputs": [],
   "source": [
    "\n",
    "result_KNN.columns = ['Customer ID', 'Churn Status']"
   ]
  },
  {
   "cell_type": "code",
   "execution_count": 137,
   "metadata": {},
   "outputs": [
    {
     "data": {
      "text/html": [
       "<div>\n",
       "<style>\n",
       "    .dataframe thead tr:only-child th {\n",
       "        text-align: right;\n",
       "    }\n",
       "\n",
       "    .dataframe thead th {\n",
       "        text-align: left;\n",
       "    }\n",
       "\n",
       "    .dataframe tbody tr th {\n",
       "        vertical-align: top;\n",
       "    }\n",
       "</style>\n",
       "<table border=\"1\" class=\"dataframe\">\n",
       "  <thead>\n",
       "    <tr style=\"text-align: right;\">\n",
       "      <th></th>\n",
       "      <th>Customer ID</th>\n",
       "      <th>Churn Status</th>\n",
       "    </tr>\n",
       "  </thead>\n",
       "  <tbody>\n",
       "    <tr>\n",
       "      <th>0</th>\n",
       "      <td>ADF0001</td>\n",
       "      <td>-1</td>\n",
       "    </tr>\n",
       "    <tr>\n",
       "      <th>1</th>\n",
       "      <td>ADF0002</td>\n",
       "      <td>1</td>\n",
       "    </tr>\n",
       "    <tr>\n",
       "      <th>2</th>\n",
       "      <td>ADF0003</td>\n",
       "      <td>1</td>\n",
       "    </tr>\n",
       "    <tr>\n",
       "      <th>3</th>\n",
       "      <td>ADF0004</td>\n",
       "      <td>1</td>\n",
       "    </tr>\n",
       "    <tr>\n",
       "      <th>4</th>\n",
       "      <td>ADF0005</td>\n",
       "      <td>-1</td>\n",
       "    </tr>\n",
       "  </tbody>\n",
       "</table>\n",
       "</div>"
      ],
      "text/plain": [
       "  Customer ID  Churn Status\n",
       "0     ADF0001            -1\n",
       "1     ADF0002             1\n",
       "2     ADF0003             1\n",
       "3     ADF0004             1\n",
       "4     ADF0005            -1"
      ]
     },
     "execution_count": 137,
     "metadata": {},
     "output_type": "execute_result"
    }
   ],
   "source": [
    "result_KNN.head()"
   ]
  },
  {
   "cell_type": "code",
   "execution_count": 138,
   "metadata": {
    "collapsed": true
   },
   "outputs": [],
   "source": [
    "result_KNN.loc[result_KNN['Churn Status']==-1, 'Churn Status']= 0"
   ]
  },
  {
   "cell_type": "code",
   "execution_count": 141,
   "metadata": {},
   "outputs": [],
   "source": [
    "result_KNN['Churn Status'] = result_KNN['Churn Status'].apply(lambda x: int(x))"
   ]
  },
  {
   "cell_type": "code",
   "execution_count": 142,
   "metadata": {
    "collapsed": true
   },
   "outputs": [],
   "source": [
    "result_KNN.to_csv('result_KNN.csv', index = False)"
   ]
  },
  {
   "cell_type": "code",
   "execution_count": 160,
   "metadata": {},
   "outputs": [
    {
     "data": {
      "text/plain": [
       "RandomForestClassifier(bootstrap=True, class_weight=None, criterion='gini',\n",
       "            max_depth=None, max_features='auto', max_leaf_nodes=None,\n",
       "            min_impurity_split=1e-07, min_samples_leaf=1,\n",
       "            min_samples_split=2, min_weight_fraction_leaf=0.0,\n",
       "            n_estimators=30, n_jobs=1, oob_score=False, random_state=None,\n",
       "            verbose=0, warm_start=False)"
      ]
     },
     "execution_count": 160,
     "metadata": {},
     "output_type": "execute_result"
    }
   ],
   "source": [
    "#using Random Forest Classifier\n",
    "RFC = RandomForestClassifier(n_estimators=30)\n",
    "RFC.fit(X_train, y_train)"
   ]
  },
  {
   "cell_type": "code",
   "execution_count": 164,
   "metadata": {},
   "outputs": [
    {
     "data": {
      "text/plain": [
       "array([[ 0.36666667,  0.63333333],\n",
       "       [ 0.06666667,  0.93333333],\n",
       "       [ 0.2       ,  0.8       ],\n",
       "       ..., \n",
       "       [ 0.7       ,  0.3       ],\n",
       "       [ 0.6       ,  0.4       ],\n",
       "       [ 0.83333333,  0.16666667]])"
      ]
     },
     "execution_count": 164,
     "metadata": {},
     "output_type": "execute_result"
    }
   ],
   "source": [
    "prediction_RFC = RFC.predict(test)\n",
    "probs_RFC = RFC.predict_proba(test)\n",
    "probs_RFC"
   ]
  },
  {
   "cell_type": "code",
   "execution_count": 165,
   "metadata": {},
   "outputs": [
    {
     "name": "stdout",
     "output_type": "stream",
     "text": [
      "Accuracy:  0.999285714286\n"
     ]
    }
   ],
   "source": [
    "score_RFC = RFC.score(X_train, y_train)\n",
    "print(\"Accuracy: \", score_RFC)"
   ]
  },
  {
   "cell_type": "code",
   "execution_count": 167,
   "metadata": {},
   "outputs": [
    {
     "data": {
      "text/html": [
       "<div>\n",
       "<style>\n",
       "    .dataframe thead tr:only-child th {\n",
       "        text-align: right;\n",
       "    }\n",
       "\n",
       "    .dataframe thead th {\n",
       "        text-align: left;\n",
       "    }\n",
       "\n",
       "    .dataframe tbody tr th {\n",
       "        vertical-align: top;\n",
       "    }\n",
       "</style>\n",
       "<table border=\"1\" class=\"dataframe\">\n",
       "  <thead>\n",
       "    <tr style=\"text-align: right;\">\n",
       "      <th></th>\n",
       "      <th>Customer ID</th>\n",
       "      <th>Churn Status</th>\n",
       "    </tr>\n",
       "  </thead>\n",
       "  <tbody>\n",
       "    <tr>\n",
       "      <th>0</th>\n",
       "      <td>ADF0001</td>\n",
       "      <td>1</td>\n",
       "    </tr>\n",
       "    <tr>\n",
       "      <th>1</th>\n",
       "      <td>ADF0002</td>\n",
       "      <td>1</td>\n",
       "    </tr>\n",
       "    <tr>\n",
       "      <th>2</th>\n",
       "      <td>ADF0003</td>\n",
       "      <td>1</td>\n",
       "    </tr>\n",
       "    <tr>\n",
       "      <th>3</th>\n",
       "      <td>ADF0004</td>\n",
       "      <td>1</td>\n",
       "    </tr>\n",
       "    <tr>\n",
       "      <th>4</th>\n",
       "      <td>ADF0005</td>\n",
       "      <td>1</td>\n",
       "    </tr>\n",
       "  </tbody>\n",
       "</table>\n",
       "</div>"
      ],
      "text/plain": [
       "  Customer ID  Churn Status\n",
       "0     ADF0001             1\n",
       "1     ADF0002             1\n",
       "2     ADF0003             1\n",
       "3     ADF0004             1\n",
       "4     ADF0005             1"
      ]
     },
     "execution_count": 167,
     "metadata": {},
     "output_type": "execute_result"
    }
   ],
   "source": [
    "predict_RFC_frame = pd.DataFrame(prediction_RFC, columns=['Churn_Status']) \n",
    "result_RFC= pd.concat([test_id, predict_RFC_frame[['Churn_Status']]], axis=1)\n",
    "result_RFC.columns = ['Customer ID', 'Churn Status']\n",
    "result_RFC.head()"
   ]
  },
  {
   "cell_type": "code",
   "execution_count": 168,
   "metadata": {
    "collapsed": true
   },
   "outputs": [],
   "source": [
    "result_RFC.loc[result_RFC['Churn Status']==-1, 'Churn Status']= 0\n",
    "result_RFC['Churn Status'] = result_RFC['Churn Status'].apply(lambda x: int(x))\n",
    "result_RFC.to_csv('result_RFC.csv', index = False)"
   ]
  },
  {
   "cell_type": "code",
   "execution_count": null,
   "metadata": {
    "collapsed": true
   },
   "outputs": [],
   "source": []
  }
 ],
 "metadata": {
  "kernelspec": {
   "display_name": "Python 3",
   "language": "python",
   "name": "python3"
  },
  "language_info": {
   "codemirror_mode": {
    "name": "ipython",
    "version": 3
   },
   "file_extension": ".py",
   "mimetype": "text/x-python",
   "name": "python",
   "nbconvert_exporter": "python",
   "pygments_lexer": "ipython3",
   "version": "3.6.1"
  }
 },
 "nbformat": 4,
 "nbformat_minor": 2
}
